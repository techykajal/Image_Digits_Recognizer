{
 "cells": [
  {
   "cell_type": "markdown",
   "metadata": {},
   "source": [
    "# Digit Recognizer \n",
    "\n",
    "by Kajal Yadav"
   ]
  },
  {
   "cell_type": "markdown",
   "metadata": {},
   "source": [
    "#  Executive Summary\n",
    "\n",
    "\n",
    "**Goal:** <br>\n",
    "\n",
    "Recognize hand written digits' images (32x32 pixels in grey scale) and predict the labels which are from 0 to 9. \n",
    "It's also an ongoing competition. <br> \n",
    "Kaggle link: https://www.kaggle.com/c/digit-recognizer\n",
    "\n",
    "**Dataset:** <br>\n",
    "\n",
    "The dataset is obtained from the link above <br>\n",
    "- Training dataset: 42,000 images, labeled \n",
    "- Test dataset: 28,000, unlabeled\n",
    "\n",
    "Since we do not have labels for the test set we create a test set from the training set (20% of training set, technically validation set) and tabulate the results\n",
    "\n",
    "<br>\n",
    "    \n",
    "**Key takeaways:** <br>\n",
    "\n",
    "- Following are results on the test dataset \n",
    "\n",
    "| Model | Test Set Accuracy |\n",
    "| :-: | :-: |\n",
    "| Logistic Regression | 0.92 |\n",
    "| Shallow Neural Network | 0.89 | \n",
    "| Fully Connected Neural Network  | 0.94 |\n",
    "| Optimized Fully Connected Neural Network | 0.97 | \n",
    "| CNN architecture | 0.99|\n",
    "\n",
    "- Logistic Regression serves as the baseline for all the models\n",
    "\n",
    "\n",
    "- Neural Networks with more than 2 hidden layers performs well on this dataset. The optimized Fully Connected Neural Network Architechture has 3 Hidden layers of 128 nodes and Dropout Regularization\n",
    "\n",
    "\n",
    "- Convolutional Neural Network Architechture performs exceptionally well on the dataset. The Architecture is inspired from LeNet-5 architecture. It has 2 Convolution Layers (filter size - 3x3), 2 Fully Connected layers (128, 64 nodes) and Dropout Regularization <br>\n",
    "\n",
    "\n",
    "\n",
    "\n",
    "**Kaggle Submission Result:** Accuracy = 0.989 (Top 40 percentile) on unlabeled dataset\n"
   ]
  },
  {
   "cell_type": "markdown",
   "metadata": {},
   "source": [
    "### Install Libraries"
   ]
  },
  {
   "cell_type": "code",
   "execution_count": 1,
   "metadata": {},
   "outputs": [
    {
     "name": "stdout",
     "output_type": "stream",
     "text": [
      "Requirement already satisfied: keras in c:\\users\\kajal\\anaconda3\\lib\\site-packages (2.8.0)\n",
      "Note: you may need to restart the kernel to use updated packages.\n"
     ]
    }
   ],
   "source": [
    "pip install keras"
   ]
  },
  {
   "cell_type": "code",
   "execution_count": 2,
   "metadata": {},
   "outputs": [
    {
     "name": "stdout",
     "output_type": "stream",
     "text": [
      "Requirement already satisfied: tensorflow in c:\\users\\kajal\\anaconda3\\lib\\site-packages (2.8.0)\n",
      "Requirement already satisfied: setuptools in c:\\users\\kajal\\anaconda3\\lib\\site-packages (from tensorflow) (58.0.4)\n",
      "Requirement already satisfied: flatbuffers>=1.12 in c:\\users\\kajal\\anaconda3\\lib\\site-packages (from tensorflow) (2.0)\n",
      "Note: you may need to restart the kernel to use updated packages.\n",
      "Requirement already satisfied: opt-einsum>=2.3.2 in c:\\users\\kajal\\anaconda3\\lib\\site-packages (from tensorflow) (3.3.0)\n",
      "Requirement already satisfied: grpcio<2.0,>=1.24.3 in c:\\users\\kajal\\anaconda3\\lib\\site-packages (from tensorflow) (1.46.0)\n",
      "Requirement already satisfied: astunparse>=1.6.0 in c:\\users\\kajal\\anaconda3\\lib\\site-packages (from tensorflow) (1.6.3)\n",
      "Requirement already satisfied: numpy>=1.20 in c:\\users\\kajal\\anaconda3\\lib\\site-packages (from tensorflow) (1.20.3)\n",
      "Requirement already satisfied: termcolor>=1.1.0 in c:\\users\\kajal\\anaconda3\\lib\\site-packages (from tensorflow) (1.1.0)\n",
      "Requirement already satisfied: protobuf>=3.9.2 in c:\\users\\kajal\\anaconda3\\lib\\site-packages (from tensorflow) (3.20.1)\n",
      "Requirement already satisfied: libclang>=9.0.1 in c:\\users\\kajal\\anaconda3\\lib\\site-packages (from tensorflow) (14.0.1)\n",
      "Requirement already satisfied: tensorflow-io-gcs-filesystem>=0.23.1 in c:\\users\\kajal\\anaconda3\\lib\\site-packages (from tensorflow) (0.25.0)\n",
      "Requirement already satisfied: keras<2.9,>=2.8.0rc0 in c:\\users\\kajal\\anaconda3\\lib\\site-packages (from tensorflow) (2.8.0)\n",
      "Requirement already satisfied: keras-preprocessing>=1.1.1 in c:\\users\\kajal\\anaconda3\\lib\\site-packages (from tensorflow) (1.1.2)\n",
      "Requirement already satisfied: absl-py>=0.4.0 in c:\\users\\kajal\\anaconda3\\lib\\site-packages (from tensorflow) (1.0.0)\n",
      "Requirement already satisfied: typing-extensions>=3.6.6 in c:\\users\\kajal\\anaconda3\\lib\\site-packages (from tensorflow) (3.10.0.2)\n",
      "Requirement already satisfied: six>=1.12.0 in c:\\users\\kajal\\anaconda3\\lib\\site-packages (from tensorflow) (1.16.0)\n",
      "Requirement already satisfied: google-pasta>=0.1.1 in c:\\users\\kajal\\anaconda3\\lib\\site-packages (from tensorflow) (0.2.0)\n",
      "Requirement already satisfied: h5py>=2.9.0 in c:\\users\\kajal\\anaconda3\\lib\\site-packages (from tensorflow) (3.2.1)\n",
      "Requirement already satisfied: wrapt>=1.11.0 in c:\\users\\kajal\\anaconda3\\lib\\site-packages (from tensorflow) (1.12.1)\n",
      "Requirement already satisfied: tensorboard<2.9,>=2.8 in c:\\users\\kajal\\anaconda3\\lib\\site-packages (from tensorflow) (2.8.0)\n",
      "Requirement already satisfied: tf-estimator-nightly==2.8.0.dev2021122109 in c:\\users\\kajal\\anaconda3\\lib\\site-packages (from tensorflow) (2.8.0.dev2021122109)\n",
      "Requirement already satisfied: gast>=0.2.1 in c:\\users\\kajal\\anaconda3\\lib\\site-packages (from tensorflow) (0.5.3)\n",
      "Requirement already satisfied: wheel<1.0,>=0.23.0 in c:\\users\\kajal\\anaconda3\\lib\\site-packages (from astunparse>=1.6.0->tensorflow) (0.37.0)\n",
      "Requirement already satisfied: werkzeug>=0.11.15 in c:\\users\\kajal\\anaconda3\\lib\\site-packages (from tensorboard<2.9,>=2.8->tensorflow) (2.0.2)\n",
      "Requirement already satisfied: tensorboard-data-server<0.7.0,>=0.6.0 in c:\\users\\kajal\\anaconda3\\lib\\site-packages (from tensorboard<2.9,>=2.8->tensorflow) (0.6.1)\n",
      "Requirement already satisfied: tensorboard-plugin-wit>=1.6.0 in c:\\users\\kajal\\anaconda3\\lib\\site-packages (from tensorboard<2.9,>=2.8->tensorflow) (1.8.1)\n",
      "Requirement already satisfied: google-auth<3,>=1.6.3 in c:\\users\\kajal\\anaconda3\\lib\\site-packages (from tensorboard<2.9,>=2.8->tensorflow) (2.6.6)\n",
      "Requirement already satisfied: markdown>=2.6.8 in c:\\users\\kajal\\anaconda3\\lib\\site-packages (from tensorboard<2.9,>=2.8->tensorflow) (3.3.7)\n",
      "Requirement already satisfied: requests<3,>=2.21.0 in c:\\users\\kajal\\anaconda3\\lib\\site-packages (from tensorboard<2.9,>=2.8->tensorflow) (2.27.1)\n",
      "Requirement already satisfied: google-auth-oauthlib<0.5,>=0.4.1 in c:\\users\\kajal\\anaconda3\\lib\\site-packages (from tensorboard<2.9,>=2.8->tensorflow) (0.4.6)\n",
      "Requirement already satisfied: pyasn1-modules>=0.2.1 in c:\\users\\kajal\\anaconda3\\lib\\site-packages (from google-auth<3,>=1.6.3->tensorboard<2.9,>=2.8->tensorflow) (0.2.8)\n",
      "Requirement already satisfied: cachetools<6.0,>=2.0.0 in c:\\users\\kajal\\anaconda3\\lib\\site-packages (from google-auth<3,>=1.6.3->tensorboard<2.9,>=2.8->tensorflow) (5.0.0)\n",
      "Requirement already satisfied: rsa<5,>=3.1.4 in c:\\users\\kajal\\anaconda3\\lib\\site-packages (from google-auth<3,>=1.6.3->tensorboard<2.9,>=2.8->tensorflow) (4.8)\n",
      "Requirement already satisfied: requests-oauthlib>=0.7.0 in c:\\users\\kajal\\anaconda3\\lib\\site-packages (from google-auth-oauthlib<0.5,>=0.4.1->tensorboard<2.9,>=2.8->tensorflow) (1.3.1)\n",
      "Requirement already satisfied: importlib-metadata>=4.4 in c:\\users\\kajal\\anaconda3\\lib\\site-packages (from markdown>=2.6.8->tensorboard<2.9,>=2.8->tensorflow) (4.8.1)\n",
      "Requirement already satisfied: zipp>=0.5 in c:\\users\\kajal\\anaconda3\\lib\\site-packages (from importlib-metadata>=4.4->markdown>=2.6.8->tensorboard<2.9,>=2.8->tensorflow) (3.6.0)\n",
      "Requirement already satisfied: pyasn1<0.5.0,>=0.4.6 in c:\\users\\kajal\\anaconda3\\lib\\site-packages (from pyasn1-modules>=0.2.1->google-auth<3,>=1.6.3->tensorboard<2.9,>=2.8->tensorflow) (0.4.8)\n",
      "Requirement already satisfied: charset-normalizer~=2.0.0 in c:\\users\\kajal\\anaconda3\\lib\\site-packages (from requests<3,>=2.21.0->tensorboard<2.9,>=2.8->tensorflow) (2.0.4)\n",
      "Requirement already satisfied: urllib3<1.27,>=1.21.1 in c:\\users\\kajal\\anaconda3\\lib\\site-packages (from requests<3,>=2.21.0->tensorboard<2.9,>=2.8->tensorflow) (1.26.7)\n",
      "Requirement already satisfied: idna<4,>=2.5 in c:\\users\\kajal\\anaconda3\\lib\\site-packages (from requests<3,>=2.21.0->tensorboard<2.9,>=2.8->tensorflow) (3.2)\n",
      "Requirement already satisfied: certifi>=2017.4.17 in c:\\users\\kajal\\anaconda3\\lib\\site-packages (from requests<3,>=2.21.0->tensorboard<2.9,>=2.8->tensorflow) (2021.10.8)\n",
      "Requirement already satisfied: oauthlib>=3.0.0 in c:\\users\\kajal\\anaconda3\\lib\\site-packages (from requests-oauthlib>=0.7.0->google-auth-oauthlib<0.5,>=0.4.1->tensorboard<2.9,>=2.8->tensorflow) (3.2.0)\n"
     ]
    }
   ],
   "source": [
    "pip install tensorflow"
   ]
  },
  {
   "cell_type": "markdown",
   "metadata": {},
   "source": [
    "#  Importing libraries and data"
   ]
  },
  {
   "cell_type": "code",
   "execution_count": 3,
   "metadata": {
    "ExecuteTime": {
     "end_time": "2020-04-20T02:31:36.605827Z",
     "start_time": "2020-04-20T02:31:30.048627Z"
    }
   },
   "outputs": [],
   "source": [
    "import pandas as pd\n",
    "import numpy as np\n",
    "import keras\n",
    "from matplotlib import pyplot as plt\n",
    "import seaborn as sns\n",
    "from sklearn.model_selection import train_test_split\n",
    "from tensorflow.keras.utils import to_categorical\n",
    "from keras.models import Sequential\n",
    "from keras.layers import Dense, BatchNormalization, Conv2D, MaxPooling2D, Flatten, Activation\n",
    "from keras.callbacks import EarlyStopping\n",
    "from sklearn.linear_model import LogisticRegression\n",
    "from sklearn.model_selection import cross_val_score\n",
    "from sklearn.model_selection import RandomizedSearchCV\n",
    "from sklearn.model_selection import GridSearchCV\n",
    "from keras.layers import Dropout\n",
    "from keras.wrappers.scikit_learn import KerasClassifier\n",
    "from keras import regularizers;"
   ]
  },
  {
   "cell_type": "code",
   "execution_count": 4,
   "metadata": {
    "ExecuteTime": {
     "end_time": "2020-04-20T02:31:43.468810Z",
     "start_time": "2020-04-20T02:31:36.610892Z"
    }
   },
   "outputs": [],
   "source": [
    "digits_train = pd.read_csv(\"train.csv\")\n",
    "digits_test = pd.read_csv(\"test.csv\")"
   ]
  },
  {
   "cell_type": "markdown",
   "metadata": {},
   "source": [
    "# Explorarary Data Analysis"
   ]
  },
  {
   "cell_type": "markdown",
   "metadata": {},
   "source": [
    "##  Structure of Data"
   ]
  },
  {
   "cell_type": "code",
   "execution_count": 5,
   "metadata": {
    "ExecuteTime": {
     "end_time": "2020-04-20T02:31:43.482474Z",
     "start_time": "2020-04-20T02:31:43.472547Z"
    }
   },
   "outputs": [
    {
     "data": {
      "text/plain": [
       "(42000, 785)"
      ]
     },
     "execution_count": 5,
     "metadata": {},
     "output_type": "execute_result"
    }
   ],
   "source": [
    "digits_train.shape"
   ]
  },
  {
   "cell_type": "markdown",
   "metadata": {},
   "source": [
    "Training dataset:\n",
    "-  28x28 image in 784 columns and 1 label\n",
    "- 42000 images"
   ]
  },
  {
   "cell_type": "code",
   "execution_count": 6,
   "metadata": {
    "ExecuteTime": {
     "end_time": "2020-04-20T02:31:43.490620Z",
     "start_time": "2020-04-20T02:31:43.484511Z"
    }
   },
   "outputs": [
    {
     "data": {
      "text/plain": [
       "(28000, 784)"
      ]
     },
     "execution_count": 6,
     "metadata": {},
     "output_type": "execute_result"
    }
   ],
   "source": [
    "digits_test.shape"
   ]
  },
  {
   "cell_type": "markdown",
   "metadata": {},
   "source": [
    "Test dataset:\n",
    "- 28x28 image in 784 columns\n",
    "- 28000 images"
   ]
  },
  {
   "cell_type": "code",
   "execution_count": 7,
   "metadata": {
    "ExecuteTime": {
     "end_time": "2020-04-20T02:31:43.496875Z",
     "start_time": "2020-04-20T02:31:43.492615Z"
    }
   },
   "outputs": [],
   "source": [
    "X_test = digits_test"
   ]
  },
  {
   "cell_type": "code",
   "execution_count": 8,
   "metadata": {
    "ExecuteTime": {
     "end_time": "2020-04-20T02:31:43.504427Z",
     "start_time": "2020-04-20T02:31:43.499553Z"
    }
   },
   "outputs": [],
   "source": [
    "X_train, y_train = digits_train.iloc[:,1:], digits_train[\"label\"]"
   ]
  },
  {
   "cell_type": "markdown",
   "metadata": {},
   "source": [
    "## Check Null values"
   ]
  },
  {
   "cell_type": "code",
   "execution_count": 9,
   "metadata": {
    "ExecuteTime": {
     "end_time": "2020-04-20T02:31:43.595442Z",
     "start_time": "2020-04-20T02:31:43.505625Z"
    }
   },
   "outputs": [
    {
     "data": {
      "text/plain": [
       "count    785.0\n",
       "mean       0.0\n",
       "std        0.0\n",
       "min        0.0\n",
       "25%        0.0\n",
       "50%        0.0\n",
       "75%        0.0\n",
       "max        0.0\n",
       "dtype: float64"
      ]
     },
     "execution_count": 9,
     "metadata": {},
     "output_type": "execute_result"
    }
   ],
   "source": [
    "digits_train.isna().sum().describe()"
   ]
  },
  {
   "cell_type": "markdown",
   "metadata": {},
   "source": [
    "There are no null values"
   ]
  },
  {
   "cell_type": "markdown",
   "metadata": {},
   "source": [
    "##  Visualize the images"
   ]
  },
  {
   "cell_type": "code",
   "execution_count": 10,
   "metadata": {
    "ExecuteTime": {
     "end_time": "2020-04-20T02:31:44.121652Z",
     "start_time": "2020-04-20T02:31:43.598174Z"
    }
   },
   "outputs": [
    {
     "data": {
      "image/png": "[encoded data removed]",
      "text/plain": [
       "<Figure size 1080x360 with 3 Axes>"
      ]
     },
     "metadata": {
      "needs_background": "light"
     },
     "output_type": "display_data"
    }
   ],
   "source": [
    "#Let's check how few images look like\n",
    "fig, ax = plt.subplots(1,3, figsize = (15,5))\n",
    "ax[0].set_title(\"Image 1\")\n",
    "ax[0].imshow(np.array(X_train.iloc[0]).reshape(28,28), cmap = \"gray\")\n",
    "ax[1].set_title(\"Image 2\")\n",
    "ax[1].imshow(np.array(X_train.iloc[1]).reshape(28,28), cmap = \"gray\")\n",
    "ax[2].set_title(\"Image 3\")\n",
    "ax[2].imshow(np.array(X_train.iloc[3]).reshape(28,28), cmap = \"gray\");"
   ]
  },
  {
   "cell_type": "markdown",
   "metadata": {},
   "source": [
    "##  Distribution of Image labels"
   ]
  },
  {
   "cell_type": "code",
   "execution_count": 11,
   "metadata": {
    "ExecuteTime": {
     "end_time": "2020-04-20T02:31:44.239192Z",
     "start_time": "2020-04-20T02:31:44.125945Z"
    }
   },
   "outputs": [
    {
     "data": {
      "text/html": [
       "<div>\n",
       "<style scoped>\n",
       "    .dataframe tbody tr th:only-of-type {\n",
       "        vertical-align: middle;\n",
       "    }\n",
       "\n",
       "    .dataframe tbody tr th {\n",
       "        vertical-align: top;\n",
       "    }\n",
       "\n",
       "    .dataframe thead th {\n",
       "        text-align: right;\n",
       "    }\n",
       "</style>\n",
       "<table border=\"1\" class=\"dataframe\">\n",
       "  <thead>\n",
       "    <tr style=\"text-align: right;\">\n",
       "      <th></th>\n",
       "      <th>label</th>\n",
       "    </tr>\n",
       "    <tr>\n",
       "      <th>label</th>\n",
       "      <th></th>\n",
       "    </tr>\n",
       "  </thead>\n",
       "  <tbody>\n",
       "    <tr>\n",
       "      <th>0</th>\n",
       "      <td>4132</td>\n",
       "    </tr>\n",
       "    <tr>\n",
       "      <th>1</th>\n",
       "      <td>4684</td>\n",
       "    </tr>\n",
       "    <tr>\n",
       "      <th>2</th>\n",
       "      <td>4177</td>\n",
       "    </tr>\n",
       "    <tr>\n",
       "      <th>3</th>\n",
       "      <td>4351</td>\n",
       "    </tr>\n",
       "    <tr>\n",
       "      <th>4</th>\n",
       "      <td>4072</td>\n",
       "    </tr>\n",
       "    <tr>\n",
       "      <th>5</th>\n",
       "      <td>3795</td>\n",
       "    </tr>\n",
       "    <tr>\n",
       "      <th>6</th>\n",
       "      <td>4137</td>\n",
       "    </tr>\n",
       "    <tr>\n",
       "      <th>7</th>\n",
       "      <td>4401</td>\n",
       "    </tr>\n",
       "    <tr>\n",
       "      <th>8</th>\n",
       "      <td>4063</td>\n",
       "    </tr>\n",
       "    <tr>\n",
       "      <th>9</th>\n",
       "      <td>4188</td>\n",
       "    </tr>\n",
       "  </tbody>\n",
       "</table>\n",
       "</div>"
      ],
      "text/plain": [
       "       label\n",
       "label       \n",
       "0       4132\n",
       "1       4684\n",
       "2       4177\n",
       "3       4351\n",
       "4       4072\n",
       "5       3795\n",
       "6       4137\n",
       "7       4401\n",
       "8       4063\n",
       "9       4188"
      ]
     },
     "execution_count": 11,
     "metadata": {},
     "output_type": "execute_result"
    }
   ],
   "source": [
    "y_counts = y_train.value_counts(sort = True, normalize = True)\n",
    "digits_train.groupby(\"label\").agg({\"label\":\"count\"})"
   ]
  },
  {
   "cell_type": "code",
   "execution_count": 12,
   "metadata": {
    "ExecuteTime": {
     "end_time": "2020-04-20T03:11:45.492884Z",
     "start_time": "2020-04-20T03:11:45.485859Z"
    }
   },
   "outputs": [
    {
     "data": {
      "text/plain": [
       "0    1\n",
       "Name: label, dtype: int64"
      ]
     },
     "execution_count": 12,
     "metadata": {},
     "output_type": "execute_result"
    }
   ],
   "source": [
    "#Mode of the distribution (Most common value)\n",
    "digits_train[\"label\"].mode()"
   ]
  },
  {
   "cell_type": "code",
   "execution_count": 13,
   "metadata": {
    "ExecuteTime": {
     "end_time": "2020-04-20T02:31:44.494661Z",
     "start_time": "2020-04-20T02:31:44.242230Z"
    }
   },
   "outputs": [
    {
     "data": {
      "image/png": "[encoded data removed]",
      "text/plain": [
       "<Figure size 720x360 with 1 Axes>"
      ]
     },
     "metadata": {
      "needs_background": "light"
     },
     "output_type": "display_data"
    }
   ],
   "source": [
    "plt.figure(figsize = (10,5))\n",
    "ax = sns.barplot(x=y_counts.index, y = y_counts.values)\n",
    "ax.set_title(\"Distribution of labels\")\n",
    "ax.set_ylabel(\"Proportion of the label\")\n",
    "ax.set_xlabel(\"Labels\");"
   ]
  },
  {
   "cell_type": "markdown",
   "metadata": {},
   "source": [
    "We observe the labels are fairly evenly distributed"
   ]
  },
  {
   "cell_type": "markdown",
   "metadata": {},
   "source": [
    "# Data Engineering / Wrangling"
   ]
  },
  {
   "cell_type": "markdown",
   "metadata": {},
   "source": [
    "##  Normalizing\n",
    "Neural networks converge faster for normalized data. The data has max 255 represeting the brightness of the image"
   ]
  },
  {
   "cell_type": "code",
   "execution_count": 14,
   "metadata": {
    "ExecuteTime": {
     "end_time": "2020-04-20T02:31:44.600175Z",
     "start_time": "2020-04-20T02:31:44.496415Z"
    }
   },
   "outputs": [],
   "source": [
    "X_train = X_train / 255\n",
    "X_test = X_test / 255"
   ]
  },
  {
   "cell_type": "markdown",
   "metadata": {},
   "source": [
    "##  Converting labels to categorical outputs"
   ]
  },
  {
   "cell_type": "code",
   "execution_count": 15,
   "metadata": {
    "ExecuteTime": {
     "end_time": "2020-04-20T02:31:44.607675Z",
     "start_time": "2020-04-20T02:31:44.601172Z"
    }
   },
   "outputs": [],
   "source": [
    "y_train = to_categorical(y_train, num_classes = 10)"
   ]
  },
  {
   "cell_type": "markdown",
   "metadata": {},
   "source": [
    "##  Splitting the training data\n",
    "- training set\n",
    "- test set\n",
    "\n",
    "We do not have labels for the test set provided on Kaggle. Hence, we test on them later with the best model"
   ]
  },
  {
   "cell_type": "code",
   "execution_count": 16,
   "metadata": {
    "ExecuteTime": {
     "end_time": "2020-04-20T02:31:44.999800Z",
     "start_time": "2020-04-20T02:31:44.609976Z"
    }
   },
   "outputs": [],
   "source": [
    "X_train, X_test, y_train, y_test = train_test_split(X_train, y_train, test_size = 0.2)"
   ]
  },
  {
   "cell_type": "markdown",
   "metadata": {},
   "source": [
    "## Reshaping data for use in CNN\n",
    "- Length x width = 28 x 28\n",
    "- Channel = 1"
   ]
  },
  {
   "cell_type": "code",
   "execution_count": 17,
   "metadata": {
    "ExecuteTime": {
     "end_time": "2020-04-20T02:31:45.009827Z",
     "start_time": "2020-04-20T02:31:45.002050Z"
    }
   },
   "outputs": [],
   "source": [
    "X_train_r, X_test_r = X_train.values.reshape(-1,28,28,1), X_test.values.reshape(-1,28,28,1)"
   ]
  },
  {
   "cell_type": "markdown",
   "metadata": {},
   "source": [
    "# Modeling"
   ]
  },
  {
   "cell_type": "code",
   "execution_count": 18,
   "metadata": {
    "ExecuteTime": {
     "end_time": "2020-04-20T02:31:45.029452Z",
     "start_time": "2020-04-20T02:31:45.011386Z"
    }
   },
   "outputs": [],
   "source": [
    "Summary_table = pd.DataFrame(columns = [\"model\", \"Test accuracy\"])"
   ]
  },
  {
   "cell_type": "markdown",
   "metadata": {},
   "source": [
    "## Logistic Regression\n",
    "Baseline model for comparison "
   ]
  },
  {
   "cell_type": "code",
   "execution_count": 19,
   "metadata": {
    "ExecuteTime": {
     "end_time": "2020-04-20T02:31:45.034523Z",
     "start_time": "2020-04-20T02:31:45.030548Z"
    }
   },
   "outputs": [],
   "source": [
    "lr = LogisticRegression(solver = \"lbfgs\", max_iter = 1000)"
   ]
  },
  {
   "cell_type": "code",
   "execution_count": 20,
   "metadata": {
    "ExecuteTime": {
     "end_time": "2020-04-20T02:33:07.967846Z",
     "start_time": "2020-04-20T02:31:45.036518Z"
    }
   },
   "outputs": [],
   "source": [
    "lr.fit(X_train, np.argmax(y_train, axis = 1));"
   ]
  },
  {
   "cell_type": "code",
   "execution_count": 21,
   "metadata": {
    "ExecuteTime": {
     "end_time": "2020-04-20T02:33:08.008972Z",
     "start_time": "2020-04-20T02:33:07.969764Z"
    }
   },
   "outputs": [],
   "source": [
    "test_accuracy = lr.score(X_test, np.argmax(y_test, axis = 1))"
   ]
  },
  {
   "cell_type": "code",
   "execution_count": 22,
   "metadata": {
    "ExecuteTime": {
     "end_time": "2020-04-20T02:33:08.021208Z",
     "start_time": "2020-04-20T02:33:08.009971Z"
    }
   },
   "outputs": [
    {
     "name": "stderr",
     "output_type": "stream",
     "text": [
      "C:\\Users\\Kajal\\AppData\\Local\\Temp/ipykernel_30436/1622244402.py:1: FutureWarning: The frame.append method is deprecated and will be removed from pandas in a future version. Use pandas.concat instead.\n",
      "  Summary_table  = Summary_table.append({\"model\": \"Logistic Regression\", \"Test accuracy\": np.round(test_accuracy,3) }, ignore_index = True)\n"
     ]
    }
   ],
   "source": [
    "Summary_table  = Summary_table.append({\"model\": \"Logistic Regression\", \"Test accuracy\": np.round(test_accuracy,3) }, ignore_index = True)"
   ]
  },
  {
   "cell_type": "code",
   "execution_count": 23,
   "metadata": {
    "ExecuteTime": {
     "end_time": "2020-04-20T02:33:08.037641Z",
     "start_time": "2020-04-20T02:33:08.023206Z"
    }
   },
   "outputs": [
    {
     "data": {
      "text/html": [
       "<div>\n",
       "<style scoped>\n",
       "    .dataframe tbody tr th:only-of-type {\n",
       "        vertical-align: middle;\n",
       "    }\n",
       "\n",
       "    .dataframe tbody tr th {\n",
       "        vertical-align: top;\n",
       "    }\n",
       "\n",
       "    .dataframe thead th {\n",
       "        text-align: right;\n",
       "    }\n",
       "</style>\n",
       "<table border=\"1\" class=\"dataframe\">\n",
       "  <thead>\n",
       "    <tr style=\"text-align: right;\">\n",
       "      <th></th>\n",
       "      <th>model</th>\n",
       "      <th>Test accuracy</th>\n",
       "    </tr>\n",
       "  </thead>\n",
       "  <tbody>\n",
       "    <tr>\n",
       "      <th>0</th>\n",
       "      <td>Logistic Regression</td>\n",
       "      <td>0.92</td>\n",
       "    </tr>\n",
       "  </tbody>\n",
       "</table>\n",
       "</div>"
      ],
      "text/plain": [
       "                 model Test accuracy\n",
       "0  Logistic Regression          0.92"
      ]
     },
     "execution_count": 23,
     "metadata": {},
     "output_type": "execute_result"
    }
   ],
   "source": [
    "Summary_table"
   ]
  },
  {
   "cell_type": "markdown",
   "metadata": {},
   "source": [
    "## Shallow fully connected Neural Network\n",
    "- Hidden layer1: 5 nodes, activation function: relu\n",
    "- Optimizer: Adam\n",
    "- Early stoppng: 10, stops further epochs iteration if the validation accuracy does not improve for 10 iterations"
   ]
  },
  {
   "cell_type": "code",
   "execution_count": 24,
   "metadata": {
    "ExecuteTime": {
     "end_time": "2020-04-20T02:33:08.113832Z",
     "start_time": "2020-04-20T02:33:08.039624Z"
    }
   },
   "outputs": [],
   "source": [
    "model_s = Sequential()\n",
    "model_s.add(Dense(5, input_shape = (784,), activation = \"relu\"))\n",
    "#Output layer\n",
    "model_s.add(Dense(10, activation = \"softmax\"))\n",
    "model_s.compile(optimizer = \"adam\", loss = \"categorical_crossentropy\", metrics = [\"accuracy\"])"
   ]
  },
  {
   "cell_type": "code",
   "execution_count": 25,
   "metadata": {
    "ExecuteTime": {
     "end_time": "2020-04-20T02:33:08.118484Z",
     "start_time": "2020-04-20T02:33:08.115376Z"
    }
   },
   "outputs": [
    {
     "name": "stdout",
     "output_type": "stream",
     "text": [
      "Model: \"sequential\"\n",
      "_________________________________________________________________\n",
      " Layer (type)                Output Shape              Param #   \n",
      "=================================================================\n",
      " dense (Dense)               (None, 5)                 3925      \n",
      "                                                                 \n",
      " dense_1 (Dense)             (None, 10)                60        \n",
      "                                                                 \n",
      "=================================================================\n",
      "Total params: 3,985\n",
      "Trainable params: 3,985\n",
      "Non-trainable params: 0\n",
      "_________________________________________________________________\n"
     ]
    }
   ],
   "source": [
    "model_s.summary()"
   ]
  },
  {
   "cell_type": "markdown",
   "metadata": {},
   "source": [
    "There are:\n",
    "- Layer1: Weights =  784*5, Bias(each node's) = 5. Total = 3925\n",
    "- Layer2 (output): Weights = 5*10 = 50, Bias (each node's) = 10. Total 60\n",
    "\n",
    "Toatal parameters = 3985"
   ]
  },
  {
   "cell_type": "code",
   "execution_count": 26,
   "metadata": {
    "ExecuteTime": {
     "end_time": "2020-04-20T02:33:08.125931Z",
     "start_time": "2020-04-20T02:33:08.124041Z"
    }
   },
   "outputs": [],
   "source": [
    "early_stopping = EarlyStopping(monitor = \"val_accuracy\", patience = 10)"
   ]
  },
  {
   "cell_type": "code",
   "execution_count": 27,
   "metadata": {
    "ExecuteTime": {
     "end_time": "2020-04-20T02:36:37.199670Z",
     "start_time": "2020-04-20T02:33:08.128264Z"
    }
   },
   "outputs": [
    {
     "name": "stdout",
     "output_type": "stream",
     "text": [
      "Epoch 1/100\n",
      "840/840 [==============================] - 2s 2ms/step - loss: 1.0077 - accuracy: 0.6947 - val_loss: 0.6828 - val_accuracy: 0.7932\n",
      "Epoch 2/100\n",
      "840/840 [==============================] - 1s 2ms/step - loss: 0.6074 - accuracy: 0.8218 - val_loss: 0.5702 - val_accuracy: 0.8351\n",
      "Epoch 3/100\n",
      "840/840 [==============================] - 1s 2ms/step - loss: 0.5222 - accuracy: 0.8503 - val_loss: 0.5207 - val_accuracy: 0.8527\n",
      "Epoch 4/100\n",
      "840/840 [==============================] - 2s 2ms/step - loss: 0.4760 - accuracy: 0.8631 - val_loss: 0.4801 - val_accuracy: 0.8637\n",
      "Epoch 5/100\n",
      "840/840 [==============================] - 2s 2ms/step - loss: 0.4453 - accuracy: 0.8722 - val_loss: 0.4516 - val_accuracy: 0.8732\n",
      "Epoch 6/100\n",
      "840/840 [==============================] - 1s 2ms/step - loss: 0.4216 - accuracy: 0.8799 - val_loss: 0.4347 - val_accuracy: 0.8777\n",
      "Epoch 7/100\n",
      "840/840 [==============================] - 1s 2ms/step - loss: 0.4048 - accuracy: 0.8851 - val_loss: 0.4188 - val_accuracy: 0.8815\n",
      "Epoch 8/100\n",
      "840/840 [==============================] - 1s 2ms/step - loss: 0.3895 - accuracy: 0.8869 - val_loss: 0.4082 - val_accuracy: 0.8859\n",
      "Epoch 9/100\n",
      "840/840 [==============================] - 1s 1ms/step - loss: 0.3784 - accuracy: 0.8917 - val_loss: 0.4030 - val_accuracy: 0.8875\n",
      "Epoch 10/100\n",
      "840/840 [==============================] - 1s 2ms/step - loss: 0.3681 - accuracy: 0.8930 - val_loss: 0.3951 - val_accuracy: 0.8900\n",
      "Epoch 11/100\n",
      "840/840 [==============================] - 1s 2ms/step - loss: 0.3616 - accuracy: 0.8973 - val_loss: 0.3944 - val_accuracy: 0.8906\n",
      "Epoch 12/100\n",
      "840/840 [==============================] - 1s 2ms/step - loss: 0.3557 - accuracy: 0.8971 - val_loss: 0.3828 - val_accuracy: 0.8923\n",
      "Epoch 13/100\n",
      "840/840 [==============================] - 2s 2ms/step - loss: 0.3494 - accuracy: 0.8990 - val_loss: 0.3794 - val_accuracy: 0.8964\n",
      "Epoch 14/100\n",
      "840/840 [==============================] - 1s 2ms/step - loss: 0.3455 - accuracy: 0.9002 - val_loss: 0.3770 - val_accuracy: 0.8951\n",
      "Epoch 15/100\n",
      "840/840 [==============================] - 1s 2ms/step - loss: 0.3416 - accuracy: 0.9015 - val_loss: 0.3769 - val_accuracy: 0.8955\n",
      "Epoch 16/100\n",
      "840/840 [==============================] - 1s 2ms/step - loss: 0.3386 - accuracy: 0.9020 - val_loss: 0.3800 - val_accuracy: 0.8911\n",
      "Epoch 17/100\n",
      "840/840 [==============================] - 1s 2ms/step - loss: 0.3345 - accuracy: 0.9047 - val_loss: 0.3709 - val_accuracy: 0.8978\n",
      "Epoch 18/100\n",
      "840/840 [==============================] - 1s 2ms/step - loss: 0.3332 - accuracy: 0.9058 - val_loss: 0.3690 - val_accuracy: 0.8985\n",
      "Epoch 19/100\n",
      "840/840 [==============================] - 2s 2ms/step - loss: 0.3311 - accuracy: 0.9057 - val_loss: 0.3737 - val_accuracy: 0.8952\n",
      "Epoch 20/100\n",
      "840/840 [==============================] - 2s 2ms/step - loss: 0.3281 - accuracy: 0.9052 - val_loss: 0.3684 - val_accuracy: 0.8981\n",
      "Epoch 21/100\n",
      "840/840 [==============================] - 2s 2ms/step - loss: 0.3263 - accuracy: 0.9071 - val_loss: 0.3710 - val_accuracy: 0.8975\n",
      "Epoch 22/100\n",
      "840/840 [==============================] - 1s 2ms/step - loss: 0.3246 - accuracy: 0.9077 - val_loss: 0.3681 - val_accuracy: 0.8964\n",
      "Epoch 23/100\n",
      "840/840 [==============================] - 2s 2ms/step - loss: 0.3234 - accuracy: 0.9082 - val_loss: 0.3714 - val_accuracy: 0.8961\n",
      "Epoch 24/100\n",
      "840/840 [==============================] - 2s 2ms/step - loss: 0.3224 - accuracy: 0.9082 - val_loss: 0.3691 - val_accuracy: 0.8948\n",
      "Epoch 25/100\n",
      "840/840 [==============================] - 1s 2ms/step - loss: 0.3205 - accuracy: 0.9086 - val_loss: 0.3660 - val_accuracy: 0.8975\n",
      "Epoch 26/100\n",
      "840/840 [==============================] - 1s 1ms/step - loss: 0.3185 - accuracy: 0.9089 - val_loss: 0.3661 - val_accuracy: 0.8967\n",
      "Epoch 27/100\n",
      "840/840 [==============================] - 1s 1ms/step - loss: 0.3168 - accuracy: 0.9089 - val_loss: 0.3683 - val_accuracy: 0.8979\n",
      "Epoch 28/100\n",
      "840/840 [==============================] - 1s 2ms/step - loss: 0.3166 - accuracy: 0.9091 - val_loss: 0.3665 - val_accuracy: 0.8966\n"
     ]
    }
   ],
   "source": [
    "history = model_s.fit(X_train, y_train, epochs = 100, validation_split = 0.2, callbacks = [early_stopping]);"
   ]
  },
  {
   "cell_type": "code",
   "execution_count": 28,
   "metadata": {
    "ExecuteTime": {
     "end_time": "2020-04-20T02:36:37.621551Z",
     "start_time": "2020-04-20T02:36:37.205874Z"
    }
   },
   "outputs": [
    {
     "data": {
      "image/png": "[encoded data removed]",
      "text/plain": [
       "<Figure size 576x288 with 1 Axes>"
      ]
     },
     "metadata": {
      "needs_background": "light"
     },
     "output_type": "display_data"
    }
   ],
   "source": [
    "fig = plt.figure(figsize = (8,4))\n",
    "ax1= plt.plot(history.history[\"accuracy\"], label = \"training\")\n",
    "ax2 = plt.plot(history.history[\"val_accuracy\"], label = \"validation\")\n",
    "plt.legend(loc=\"upper left\")\n",
    "plt.xlabel(\"Epochs\")\n",
    "plt.ylim(0.85,1)\n",
    "plt.ylabel(\"Accuracy\")\n",
    "plt.title(\"Training accuracy and Validation accuracy by epochs\");"
   ]
  },
  {
   "cell_type": "code",
   "execution_count": 29,
   "metadata": {
    "ExecuteTime": {
     "end_time": "2020-04-20T02:36:37.810101Z",
     "start_time": "2020-04-20T02:36:37.622547Z"
    }
   },
   "outputs": [
    {
     "name": "stdout",
     "output_type": "stream",
     "text": [
      "263/263 [==============================] - 1s 1ms/step - loss: 0.3851 - accuracy: 0.8975\n"
     ]
    }
   ],
   "source": [
    "test_accuracy = model_s.evaluate(X_test, y_test)[1]"
   ]
  },
  {
   "cell_type": "code",
   "execution_count": 30,
   "metadata": {
    "ExecuteTime": {
     "end_time": "2020-04-20T02:36:37.821790Z",
     "start_time": "2020-04-20T02:36:37.811098Z"
    }
   },
   "outputs": [
    {
     "name": "stderr",
     "output_type": "stream",
     "text": [
      "C:\\Users\\Kajal\\AppData\\Local\\Temp/ipykernel_30436/2462669192.py:1: FutureWarning: The frame.append method is deprecated and will be removed from pandas in a future version. Use pandas.concat instead.\n",
      "  Summary_table  = Summary_table.append({\"model\": \"Shallow NN\", \"Test accuracy\": np.round(test_accuracy,3) }, ignore_index = True)\n"
     ]
    }
   ],
   "source": [
    "Summary_table  = Summary_table.append({\"model\": \"Shallow NN\", \"Test accuracy\": np.round(test_accuracy,3) }, ignore_index = True)"
   ]
  },
  {
   "cell_type": "code",
   "execution_count": 31,
   "metadata": {
    "ExecuteTime": {
     "end_time": "2020-04-20T02:36:37.840344Z",
     "start_time": "2020-04-20T02:36:37.822769Z"
    }
   },
   "outputs": [
    {
     "data": {
      "text/html": [
       "<div>\n",
       "<style scoped>\n",
       "    .dataframe tbody tr th:only-of-type {\n",
       "        vertical-align: middle;\n",
       "    }\n",
       "\n",
       "    .dataframe tbody tr th {\n",
       "        vertical-align: top;\n",
       "    }\n",
       "\n",
       "    .dataframe thead th {\n",
       "        text-align: right;\n",
       "    }\n",
       "</style>\n",
       "<table border=\"1\" class=\"dataframe\">\n",
       "  <thead>\n",
       "    <tr style=\"text-align: right;\">\n",
       "      <th></th>\n",
       "      <th>model</th>\n",
       "      <th>Test accuracy</th>\n",
       "    </tr>\n",
       "  </thead>\n",
       "  <tbody>\n",
       "    <tr>\n",
       "      <th>0</th>\n",
       "      <td>Logistic Regression</td>\n",
       "      <td>0.92</td>\n",
       "    </tr>\n",
       "    <tr>\n",
       "      <th>1</th>\n",
       "      <td>Shallow NN</td>\n",
       "      <td>0.897</td>\n",
       "    </tr>\n",
       "  </tbody>\n",
       "</table>\n",
       "</div>"
      ],
      "text/plain": [
       "                 model Test accuracy\n",
       "0  Logistic Regression          0.92\n",
       "1           Shallow NN         0.897"
      ]
     },
     "execution_count": 31,
     "metadata": {},
     "output_type": "execute_result"
    }
   ],
   "source": [
    "Summary_table"
   ]
  },
  {
   "cell_type": "markdown",
   "metadata": {},
   "source": [
    "Observation:\n",
    "- Bayes error : 0 (Humans can perfectly identify)\n",
    "- Training error : 0.09\n",
    "- Test accuracy: 0.11\n",
    "\n",
    "Therefore, we can focus on trying to decrease the gap between bayes error and training error with **more complex model**\n"
   ]
  },
  {
   "cell_type": "markdown",
   "metadata": {},
   "source": [
    "## Fully Connected Neural Network (2 Hidden Layers, 5 nodes) \n",
    "- Hidden layer1: 5 nodes, activation function: relu\n",
    "- Hidden layer2: 5 nodes, activation function: relu\n",
    "- Optimizer: Adam\n",
    "- Early stoppng: 10, stops further epochs iteration if the validation accuracy does not improve for 10 iterations\n",
    "- Batch Normalization before every layer"
   ]
  },
  {
   "cell_type": "code",
   "execution_count": 32,
   "metadata": {
    "ExecuteTime": {
     "end_time": "2020-04-20T02:36:37.949329Z",
     "start_time": "2020-04-20T02:36:37.841600Z"
    }
   },
   "outputs": [],
   "source": [
    "model_fc = Sequential()\n",
    "model_fc.add(Dense(5, input_shape = (784,), activation = \"relu\"))\n",
    "model_fc.add(BatchNormalization())\n",
    "model_fc.add(Dense(5, activation = \"relu\"))\n",
    "model_fc.add(BatchNormalization())\n",
    "model_fc.add(Dense(10, activation = \"softmax\"))"
   ]
  },
  {
   "cell_type": "code",
   "execution_count": 33,
   "metadata": {
    "ExecuteTime": {
     "end_time": "2020-04-20T02:36:37.986615Z",
     "start_time": "2020-04-20T02:36:37.949329Z"
    }
   },
   "outputs": [],
   "source": [
    "model_fc.compile(optimizer = \"adam\", loss = \"categorical_crossentropy\", metrics =[\"accuracy\"])"
   ]
  },
  {
   "cell_type": "code",
   "execution_count": 34,
   "metadata": {
    "ExecuteTime": {
     "end_time": "2020-04-20T02:36:37.994393Z",
     "start_time": "2020-04-20T02:36:37.986615Z"
    }
   },
   "outputs": [
    {
     "name": "stdout",
     "output_type": "stream",
     "text": [
      "Model: \"sequential_1\"\n",
      "_________________________________________________________________\n",
      " Layer (type)                Output Shape              Param #   \n",
      "=================================================================\n",
      " dense_2 (Dense)             (None, 5)                 3925      \n",
      "                                                                 \n",
      " batch_normalization (BatchN  (None, 5)                20        \n",
      " ormalization)                                                   \n",
      "                                                                 \n",
      " dense_3 (Dense)             (None, 5)                 30        \n",
      "                                                                 \n",
      " batch_normalization_1 (Batc  (None, 5)                20        \n",
      " hNormalization)                                                 \n",
      "                                                                 \n",
      " dense_4 (Dense)             (None, 10)                60        \n",
      "                                                                 \n",
      "=================================================================\n",
      "Total params: 4,055\n",
      "Trainable params: 4,035\n",
      "Non-trainable params: 20\n",
      "_________________________________________________________________\n"
     ]
    }
   ],
   "source": [
    "model_fc.summary()"
   ]
  },
  {
   "cell_type": "code",
   "execution_count": 35,
   "metadata": {
    "ExecuteTime": {
     "end_time": "2020-04-20T02:38:24.105027Z",
     "start_time": "2020-04-20T02:36:37.995613Z"
    }
   },
   "outputs": [
    {
     "name": "stdout",
     "output_type": "stream",
     "text": [
      "Epoch 1/100\n",
      "840/840 [==============================] - 3s 2ms/step - loss: 1.2746 - accuracy: 0.5918 - val_loss: 0.7292 - val_accuracy: 0.7909\n",
      "Epoch 2/100\n",
      "840/840 [==============================] - 2s 2ms/step - loss: 0.6994 - accuracy: 0.7889 - val_loss: 0.5797 - val_accuracy: 0.8317\n",
      "Epoch 3/100\n",
      "840/840 [==============================] - 2s 2ms/step - loss: 0.6041 - accuracy: 0.8215 - val_loss: 0.5230 - val_accuracy: 0.8443\n",
      "Epoch 4/100\n",
      "840/840 [==============================] - 2s 2ms/step - loss: 0.5601 - accuracy: 0.8351 - val_loss: 0.5013 - val_accuracy: 0.8482\n",
      "Epoch 5/100\n",
      "840/840 [==============================] - 2s 2ms/step - loss: 0.5368 - accuracy: 0.8417 - val_loss: 0.4820 - val_accuracy: 0.8579\n",
      "Epoch 6/100\n",
      "840/840 [==============================] - 2s 2ms/step - loss: 0.5165 - accuracy: 0.8463 - val_loss: 0.4609 - val_accuracy: 0.8632\n",
      "Epoch 7/100\n",
      "840/840 [==============================] - 2s 2ms/step - loss: 0.4979 - accuracy: 0.8516 - val_loss: 0.4609 - val_accuracy: 0.8606\n",
      "Epoch 8/100\n",
      "840/840 [==============================] - 2s 2ms/step - loss: 0.4878 - accuracy: 0.8542 - val_loss: 0.4459 - val_accuracy: 0.8638\n",
      "Epoch 9/100\n",
      "840/840 [==============================] - 2s 2ms/step - loss: 0.4773 - accuracy: 0.8575 - val_loss: 0.4447 - val_accuracy: 0.8674\n",
      "Epoch 10/100\n",
      "840/840 [==============================] - 2s 2ms/step - loss: 0.4736 - accuracy: 0.8582 - val_loss: 0.4380 - val_accuracy: 0.8699\n",
      "Epoch 11/100\n",
      "840/840 [==============================] - 2s 2ms/step - loss: 0.4667 - accuracy: 0.8581 - val_loss: 0.4420 - val_accuracy: 0.8635\n",
      "Epoch 12/100\n",
      "840/840 [==============================] - 2s 2ms/step - loss: 0.4621 - accuracy: 0.8595 - val_loss: 0.4529 - val_accuracy: 0.8595\n",
      "Epoch 13/100\n",
      "840/840 [==============================] - 2s 2ms/step - loss: 0.4590 - accuracy: 0.8612 - val_loss: 0.4320 - val_accuracy: 0.8693\n",
      "Epoch 14/100\n",
      "840/840 [==============================] - 2s 2ms/step - loss: 0.4565 - accuracy: 0.8614 - val_loss: 0.4315 - val_accuracy: 0.8690\n",
      "Epoch 15/100\n",
      "840/840 [==============================] - 2s 2ms/step - loss: 0.4522 - accuracy: 0.8610 - val_loss: 0.4309 - val_accuracy: 0.8714\n",
      "Epoch 16/100\n",
      "840/840 [==============================] - 2s 2ms/step - loss: 0.4566 - accuracy: 0.8604 - val_loss: 0.4267 - val_accuracy: 0.8716\n",
      "Epoch 17/100\n",
      "840/840 [==============================] - 2s 2ms/step - loss: 0.4456 - accuracy: 0.8641 - val_loss: 0.4415 - val_accuracy: 0.8629\n",
      "Epoch 18/100\n",
      "840/840 [==============================] - 2s 2ms/step - loss: 0.4460 - accuracy: 0.8650 - val_loss: 0.4201 - val_accuracy: 0.8741\n",
      "Epoch 19/100\n",
      "840/840 [==============================] - 1s 2ms/step - loss: 0.4446 - accuracy: 0.8634 - val_loss: 0.4316 - val_accuracy: 0.8682\n",
      "Epoch 20/100\n",
      "840/840 [==============================] - 1s 2ms/step - loss: 0.4398 - accuracy: 0.8656 - val_loss: 0.4213 - val_accuracy: 0.8757\n",
      "Epoch 21/100\n",
      "840/840 [==============================] - 1s 2ms/step - loss: 0.4357 - accuracy: 0.8655 - val_loss: 0.4270 - val_accuracy: 0.8728\n",
      "Epoch 22/100\n",
      "840/840 [==============================] - 2s 2ms/step - loss: 0.4362 - accuracy: 0.8657 - val_loss: 0.4227 - val_accuracy: 0.8740\n",
      "Epoch 23/100\n",
      "840/840 [==============================] - 2s 2ms/step - loss: 0.4335 - accuracy: 0.8682 - val_loss: 0.4269 - val_accuracy: 0.8687\n",
      "Epoch 24/100\n",
      "840/840 [==============================] - 2s 2ms/step - loss: 0.4287 - accuracy: 0.8684 - val_loss: 0.4190 - val_accuracy: 0.8732\n",
      "Epoch 25/100\n",
      "840/840 [==============================] - 2s 2ms/step - loss: 0.4304 - accuracy: 0.8672 - val_loss: 0.4239 - val_accuracy: 0.8746\n",
      "Epoch 26/100\n",
      "840/840 [==============================] - 2s 2ms/step - loss: 0.4363 - accuracy: 0.8652 - val_loss: 0.4240 - val_accuracy: 0.8725\n",
      "Epoch 27/100\n",
      "840/840 [==============================] - 2s 2ms/step - loss: 0.4326 - accuracy: 0.8645 - val_loss: 0.4189 - val_accuracy: 0.8702\n",
      "Epoch 28/100\n",
      "840/840 [==============================] - 2s 2ms/step - loss: 0.4269 - accuracy: 0.8679 - val_loss: 0.4356 - val_accuracy: 0.8689\n",
      "Epoch 29/100\n",
      "840/840 [==============================] - 2s 2ms/step - loss: 0.4274 - accuracy: 0.8666 - val_loss: 0.4173 - val_accuracy: 0.8728\n",
      "Epoch 30/100\n",
      "840/840 [==============================] - 2s 2ms/step - loss: 0.4246 - accuracy: 0.8679 - val_loss: 0.4172 - val_accuracy: 0.8765\n",
      "Epoch 31/100\n",
      "840/840 [==============================] - 1s 2ms/step - loss: 0.4302 - accuracy: 0.8656 - val_loss: 0.4295 - val_accuracy: 0.8714\n",
      "Epoch 32/100\n",
      "840/840 [==============================] - 1s 2ms/step - loss: 0.4263 - accuracy: 0.8679 - val_loss: 0.4123 - val_accuracy: 0.8757\n",
      "Epoch 33/100\n",
      "840/840 [==============================] - 2s 2ms/step - loss: 0.4236 - accuracy: 0.8685 - val_loss: 0.4256 - val_accuracy: 0.8729\n",
      "Epoch 34/100\n",
      "840/840 [==============================] - 1s 2ms/step - loss: 0.4279 - accuracy: 0.8684 - val_loss: 0.4198 - val_accuracy: 0.8743\n",
      "Epoch 35/100\n",
      "840/840 [==============================] - 2s 2ms/step - loss: 0.4261 - accuracy: 0.8689 - val_loss: 0.4210 - val_accuracy: 0.8716\n",
      "Epoch 36/100\n",
      "840/840 [==============================] - 2s 2ms/step - loss: 0.4205 - accuracy: 0.8712 - val_loss: 0.4187 - val_accuracy: 0.8750\n",
      "Epoch 37/100\n",
      "840/840 [==============================] - 2s 2ms/step - loss: 0.4247 - accuracy: 0.8681 - val_loss: 0.4292 - val_accuracy: 0.8699\n",
      "Epoch 38/100\n",
      "840/840 [==============================] - 2s 2ms/step - loss: 0.4225 - accuracy: 0.8687 - val_loss: 0.4163 - val_accuracy: 0.8723\n",
      "Epoch 39/100\n",
      "840/840 [==============================] - 2s 2ms/step - loss: 0.4202 - accuracy: 0.8691 - val_loss: 0.4119 - val_accuracy: 0.8751\n",
      "Epoch 40/100\n",
      "840/840 [==============================] - 2s 2ms/step - loss: 0.4195 - accuracy: 0.8699 - val_loss: 0.4187 - val_accuracy: 0.8711\n"
     ]
    }
   ],
   "source": [
    "history = model_fc.fit(X_train, y_train, validation_split = 0.2, callbacks = [early_stopping], epochs = 100);"
   ]
  },
  {
   "cell_type": "code",
   "execution_count": 36,
   "metadata": {
    "ExecuteTime": {
     "end_time": "2020-04-20T02:38:24.377875Z",
     "start_time": "2020-04-20T02:38:24.106022Z"
    }
   },
   "outputs": [
    {
     "data": {
      "image/png": "[encoded data removed]",
      "text/plain": [
       "<Figure size 576x288 with 1 Axes>"
      ]
     },
     "metadata": {
      "needs_background": "light"
     },
     "output_type": "display_data"
    }
   ],
   "source": [
    "fig = plt.figure(figsize = (8,4))\n",
    "ax1= plt.plot(history.history[\"accuracy\"], label = \"training\")\n",
    "ax2 = plt.plot(history.history[\"val_accuracy\"], label = \"validation\")\n",
    "plt.legend(loc=\"upper left\")\n",
    "plt.xlabel(\"Epochs\")\n",
    "plt.ylim(0.7,1)\n",
    "plt.ylabel(\"Accuracy\")\n",
    "plt.title(\"Training accuracy and Validation accuracy by epochs\");"
   ]
  },
  {
   "cell_type": "code",
   "execution_count": 37,
   "metadata": {
    "ExecuteTime": {
     "end_time": "2020-04-20T02:38:24.699105Z",
     "start_time": "2020-04-20T02:38:24.382197Z"
    }
   },
   "outputs": [
    {
     "name": "stdout",
     "output_type": "stream",
     "text": [
      "263/263 [==============================] - 0s 1ms/step - loss: 0.4248 - accuracy: 0.8773\n"
     ]
    }
   ],
   "source": [
    "test_accuracy = model_fc.evaluate(X_test, y_test)[1]"
   ]
  },
  {
   "cell_type": "code",
   "execution_count": 38,
   "metadata": {
    "ExecuteTime": {
     "end_time": "2020-04-20T02:38:24.715106Z",
     "start_time": "2020-04-20T02:38:24.699105Z"
    }
   },
   "outputs": [
    {
     "name": "stderr",
     "output_type": "stream",
     "text": [
      "C:\\Users\\Kajal\\AppData\\Local\\Temp/ipykernel_30436/1061659960.py:1: FutureWarning: The frame.append method is deprecated and will be removed from pandas in a future version. Use pandas.concat instead.\n",
      "  Summary_table  = Summary_table.append({\"model\": \"NN 2 HL,5 nodes\", \"Test accuracy\": np.round(test_accuracy,3) }, ignore_index = True)\n"
     ]
    }
   ],
   "source": [
    "Summary_table  = Summary_table.append({\"model\": \"NN 2 HL,5 nodes\", \"Test accuracy\": np.round(test_accuracy,3) }, ignore_index = True)"
   ]
  },
  {
   "cell_type": "markdown",
   "metadata": {},
   "source": [
    "Observations: <br>\n",
    "Increasing  a layer has actually decrased the accuracy rather than increasing. The network needs more width (numer of nodes)"
   ]
  },
  {
   "cell_type": "markdown",
   "metadata": {},
   "source": [
    "## Fully Connected Neural Network (2 Hidden Layers, 16 nodes)\n",
    "- Hidden layer1: 16 nodes, activation function: relu\n",
    "- Hidden layer2: 16 nodes, activation function: relu\n",
    "- Optimizer: Adam\n",
    "- Early stoppng: 10, stops further epochs iteration if the validation accuracy does not improve for 10 iterations\n",
    "- Batch Normalization before every layer"
   ]
  },
  {
   "cell_type": "code",
   "execution_count": 39,
   "metadata": {
    "ExecuteTime": {
     "end_time": "2020-04-20T02:38:24.874868Z",
     "start_time": "2020-04-20T02:38:24.717414Z"
    }
   },
   "outputs": [],
   "source": [
    "model_fc16 = Sequential()\n",
    "model_fc16.add(Dense(16, input_shape = (784,), activation = \"relu\"))\n",
    "model_fc16.add(BatchNormalization())\n",
    "model_fc16.add(Dense(16, activation = \"relu\"))\n",
    "model_fc16.add(BatchNormalization())\n",
    "model_fc16.add(Dense(10, activation = \"softmax\"))"
   ]
  },
  {
   "cell_type": "code",
   "execution_count": 40,
   "metadata": {
    "ExecuteTime": {
     "end_time": "2020-04-20T02:38:24.928287Z",
     "start_time": "2020-04-20T02:38:24.876879Z"
    }
   },
   "outputs": [],
   "source": [
    "model_fc16.compile(optimizer = \"adam\", loss = \"categorical_crossentropy\", metrics = [\"accuracy\"])"
   ]
  },
  {
   "cell_type": "code",
   "execution_count": 41,
   "metadata": {
    "ExecuteTime": {
     "end_time": "2020-04-20T02:38:24.939868Z",
     "start_time": "2020-04-20T02:38:24.931262Z"
    }
   },
   "outputs": [
    {
     "name": "stdout",
     "output_type": "stream",
     "text": [
      "Model: \"sequential_2\"\n",
      "_________________________________________________________________\n",
      " Layer (type)                Output Shape              Param #   \n",
      "=================================================================\n",
      " dense_5 (Dense)             (None, 16)                12560     \n",
      "                                                                 \n",
      " batch_normalization_2 (Batc  (None, 16)               64        \n",
      " hNormalization)                                                 \n",
      "                                                                 \n",
      " dense_6 (Dense)             (None, 16)                272       \n",
      "                                                                 \n",
      " batch_normalization_3 (Batc  (None, 16)               64        \n",
      " hNormalization)                                                 \n",
      "                                                                 \n",
      " dense_7 (Dense)             (None, 10)                170       \n",
      "                                                                 \n",
      "=================================================================\n",
      "Total params: 13,130\n",
      "Trainable params: 13,066\n",
      "Non-trainable params: 64\n",
      "_________________________________________________________________\n"
     ]
    }
   ],
   "source": [
    "model_fc16.summary()"
   ]
  },
  {
   "cell_type": "code",
   "execution_count": 42,
   "metadata": {
    "ExecuteTime": {
     "end_time": "2020-04-20T02:41:18.603900Z",
     "start_time": "2020-04-20T02:38:24.942457Z"
    }
   },
   "outputs": [
    {
     "name": "stdout",
     "output_type": "stream",
     "text": [
      "Epoch 1/100\n",
      "840/840 [==============================] - 2s 2ms/step - loss: 0.7104 - accuracy: 0.7983 - val_loss: 0.3283 - val_accuracy: 0.9039\n",
      "Epoch 2/100\n",
      "840/840 [==============================] - 2s 2ms/step - loss: 0.3329 - accuracy: 0.9025 - val_loss: 0.2864 - val_accuracy: 0.9168\n",
      "Epoch 3/100\n",
      "840/840 [==============================] - 2s 2ms/step - loss: 0.2867 - accuracy: 0.9151 - val_loss: 0.2433 - val_accuracy: 0.9296\n",
      "Epoch 4/100\n",
      "840/840 [==============================] - 2s 2ms/step - loss: 0.2610 - accuracy: 0.9218 - val_loss: 0.2427 - val_accuracy: 0.9312\n",
      "Epoch 5/100\n",
      "840/840 [==============================] - 2s 2ms/step - loss: 0.2366 - accuracy: 0.9294 - val_loss: 0.2185 - val_accuracy: 0.9366\n",
      "Epoch 6/100\n",
      "840/840 [==============================] - 2s 2ms/step - loss: 0.2292 - accuracy: 0.9306 - val_loss: 0.2322 - val_accuracy: 0.9307\n",
      "Epoch 7/100\n",
      "840/840 [==============================] - 2s 2ms/step - loss: 0.2142 - accuracy: 0.9339 - val_loss: 0.2054 - val_accuracy: 0.9406\n",
      "Epoch 8/100\n",
      "840/840 [==============================] - 2s 2ms/step - loss: 0.2042 - accuracy: 0.9374 - val_loss: 0.2254 - val_accuracy: 0.9336\n",
      "Epoch 9/100\n",
      "840/840 [==============================] - 2s 2ms/step - loss: 0.2004 - accuracy: 0.9382 - val_loss: 0.2078 - val_accuracy: 0.9385\n",
      "Epoch 10/100\n",
      "840/840 [==============================] - 2s 2ms/step - loss: 0.1904 - accuracy: 0.9418 - val_loss: 0.2478 - val_accuracy: 0.9290\n",
      "Epoch 11/100\n",
      "840/840 [==============================] - 2s 2ms/step - loss: 0.1845 - accuracy: 0.9426 - val_loss: 0.2107 - val_accuracy: 0.9399\n",
      "Epoch 12/100\n",
      "840/840 [==============================] - 2s 2ms/step - loss: 0.1865 - accuracy: 0.9429 - val_loss: 0.2190 - val_accuracy: 0.9365\n",
      "Epoch 13/100\n",
      "840/840 [==============================] - 2s 2ms/step - loss: 0.1766 - accuracy: 0.9452 - val_loss: 0.2044 - val_accuracy: 0.9384\n",
      "Epoch 14/100\n",
      "840/840 [==============================] - 2s 2ms/step - loss: 0.1757 - accuracy: 0.9453 - val_loss: 0.2076 - val_accuracy: 0.9382\n",
      "Epoch 15/100\n",
      "840/840 [==============================] - 2s 2ms/step - loss: 0.1695 - accuracy: 0.9471 - val_loss: 0.2094 - val_accuracy: 0.9374\n",
      "Epoch 16/100\n",
      "840/840 [==============================] - 2s 2ms/step - loss: 0.1702 - accuracy: 0.9474 - val_loss: 0.2175 - val_accuracy: 0.9357\n",
      "Epoch 17/100\n",
      "840/840 [==============================] - 2s 2ms/step - loss: 0.1669 - accuracy: 0.9469 - val_loss: 0.2135 - val_accuracy: 0.9396\n"
     ]
    }
   ],
   "source": [
    "history = model_fc16.fit(X_train, y_train, validation_split = 0.2, epochs = 100, callbacks = [early_stopping])"
   ]
  },
  {
   "cell_type": "code",
   "execution_count": 43,
   "metadata": {
    "ExecuteTime": {
     "end_time": "2020-04-20T02:41:18.718630Z",
     "start_time": "2020-04-20T02:41:18.604899Z"
    }
   },
   "outputs": [
    {
     "data": {
      "image/png": "[encoded data removed]",
      "text/plain": [
       "<Figure size 576x288 with 1 Axes>"
      ]
     },
     "metadata": {
      "needs_background": "light"
     },
     "output_type": "display_data"
    }
   ],
   "source": [
    "fig = plt.figure(figsize = (8,4))\n",
    "ax1= plt.plot(history.history[\"accuracy\"], label = \"training\")\n",
    "ax2 = plt.plot(history.history[\"val_accuracy\"], label = \"validation\")\n",
    "plt.legend(loc=\"upper left\")\n",
    "plt.xlabel(\"Epochs\")\n",
    "plt.ylim(0.75,1)\n",
    "plt.ylabel(\"Accuracy\")\n",
    "plt.title(\"Training accuracy and Validation accuracy by epochs\");"
   ]
  },
  {
   "cell_type": "code",
   "execution_count": 44,
   "metadata": {
    "ExecuteTime": {
     "end_time": "2020-04-20T02:41:18.877675Z",
     "start_time": "2020-04-20T02:41:18.719610Z"
    }
   },
   "outputs": [
    {
     "name": "stdout",
     "output_type": "stream",
     "text": [
      "263/263 [==============================] - 1s 2ms/step - loss: 0.2017 - accuracy: 0.9417\n"
     ]
    }
   ],
   "source": [
    "test_accuracy = model_fc16.evaluate(X_test, y_test)[1]"
   ]
  },
  {
   "cell_type": "code",
   "execution_count": 45,
   "metadata": {
    "ExecuteTime": {
     "end_time": "2020-04-20T02:41:18.883662Z",
     "start_time": "2020-04-20T02:41:18.878675Z"
    }
   },
   "outputs": [
    {
     "name": "stderr",
     "output_type": "stream",
     "text": [
      "C:\\Users\\Kajal\\AppData\\Local\\Temp/ipykernel_30436/2742877319.py:1: FutureWarning: The frame.append method is deprecated and will be removed from pandas in a future version. Use pandas.concat instead.\n",
      "  Summary_table  = Summary_table.append({\"model\": \"NN 2 HL,16 nodes\", \"Test accuracy\": np.round(test_accuracy,3) }, ignore_index = True)\n"
     ]
    }
   ],
   "source": [
    "Summary_table  = Summary_table.append({\"model\": \"NN 2 HL,16 nodes\", \"Test accuracy\": np.round(test_accuracy,3) }, ignore_index = True)"
   ]
  },
  {
   "cell_type": "code",
   "execution_count": 46,
   "metadata": {
    "ExecuteTime": {
     "end_time": "2020-04-20T02:41:18.894631Z",
     "start_time": "2020-04-20T02:41:18.884670Z"
    }
   },
   "outputs": [
    {
     "data": {
      "text/html": [
       "<div>\n",
       "<style scoped>\n",
       "    .dataframe tbody tr th:only-of-type {\n",
       "        vertical-align: middle;\n",
       "    }\n",
       "\n",
       "    .dataframe tbody tr th {\n",
       "        vertical-align: top;\n",
       "    }\n",
       "\n",
       "    .dataframe thead th {\n",
       "        text-align: right;\n",
       "    }\n",
       "</style>\n",
       "<table border=\"1\" class=\"dataframe\">\n",
       "  <thead>\n",
       "    <tr style=\"text-align: right;\">\n",
       "      <th></th>\n",
       "      <th>model</th>\n",
       "      <th>Test accuracy</th>\n",
       "    </tr>\n",
       "  </thead>\n",
       "  <tbody>\n",
       "    <tr>\n",
       "      <th>0</th>\n",
       "      <td>Logistic Regression</td>\n",
       "      <td>0.92</td>\n",
       "    </tr>\n",
       "    <tr>\n",
       "      <th>1</th>\n",
       "      <td>Shallow NN</td>\n",
       "      <td>0.897</td>\n",
       "    </tr>\n",
       "    <tr>\n",
       "      <th>2</th>\n",
       "      <td>NN 2 HL,5 nodes</td>\n",
       "      <td>0.877</td>\n",
       "    </tr>\n",
       "    <tr>\n",
       "      <th>3</th>\n",
       "      <td>NN 2 HL,16 nodes</td>\n",
       "      <td>0.942</td>\n",
       "    </tr>\n",
       "  </tbody>\n",
       "</table>\n",
       "</div>"
      ],
      "text/plain": [
       "                 model Test accuracy\n",
       "0  Logistic Regression          0.92\n",
       "1           Shallow NN         0.897\n",
       "2      NN 2 HL,5 nodes         0.877\n",
       "3     NN 2 HL,16 nodes         0.942"
      ]
     },
     "execution_count": 46,
     "metadata": {},
     "output_type": "execute_result"
    }
   ],
   "source": [
    "Summary_table"
   ]
  },
  {
   "cell_type": "markdown",
   "metadata": {},
   "source": [
    "Observations:\n",
    "- Bayes error : 0 (Humans can perfectly identify)\n",
    "- Training error : 0.04\n",
    "- Test accuracy: 0.06\n",
    "\n",
    "We have successfully reduced the bias but there still is 0.04 reducable bias which can be tackled with **more complex model**"
   ]
  },
  {
   "cell_type": "markdown",
   "metadata": {},
   "source": [
    "## Optimizing Fully Connected Neural Network\n",
    "Based on our observation so far, we can optimize the neural network with hyperparamters tuning:\n",
    "- Optimizer: Stochastic Gradient Descent and Adam\n",
    "- Nodes: 16, 32, 64, 128\n",
    "- Hidden Layers: 2,3,4\n",
    "- Activation function: relu, tanh"
   ]
  },
  {
   "cell_type": "code",
   "execution_count": 47,
   "metadata": {
    "ExecuteTime": {
     "end_time": "2020-04-20T02:41:18.902610Z",
     "start_time": "2020-04-20T02:41:18.896628Z"
    }
   },
   "outputs": [],
   "source": [
    "def create_model(optimizer =\"adam\", hl = 2, nodes = 16, activation = \"relu\"):\n",
    "    model = Sequential()\n",
    "    model.add(Dense(nodes, input_shape = (784,), activation = activation))\n",
    "    l=1\n",
    "    while(l < hl):\n",
    "        model.add(Dense(nodes,activation = activation))\n",
    "        model.add(BatchNormalization())\n",
    "        l+=1\n",
    "    model.add(Dense(10, activation = \"softmax\"))\n",
    "    model.compile(optimizer = optimizer, loss = \"categorical_crossentropy\",metrics = [\"accuracy\"])\n",
    "    return model"
   ]
  },
  {
   "cell_type": "code",
   "execution_count": 48,
   "metadata": {
    "ExecuteTime": {
     "end_time": "2020-04-20T02:41:18.909591Z",
     "start_time": "2020-04-20T02:41:18.903626Z"
    }
   },
   "outputs": [],
   "source": [
    "NN_parameters = {\"optimizer\":[\"sgd\", \"adam\"], \"hl\":[2,3,4], \"nodes\":[16,32,64,128], \"activation\":[\"relu\",\"tanh\"]}"
   ]
  },
  {
   "cell_type": "code",
   "execution_count": 49,
   "metadata": {
    "ExecuteTime": {
     "end_time": "2020-04-20T02:41:18.914578Z",
     "start_time": "2020-04-20T02:41:18.910588Z"
    }
   },
   "outputs": [
    {
     "name": "stderr",
     "output_type": "stream",
     "text": [
      "C:\\Users\\Kajal\\AppData\\Local\\Temp/ipykernel_30436/2890373991.py:1: DeprecationWarning: KerasClassifier is deprecated, use Sci-Keras (https://github.com/adriangb/scikeras) instead. See https://www.adriangb.com/scikeras/stable/migration.html for help migrating.\n",
      "  model = KerasClassifier(build_fn = create_model, epochs = 10)\n"
     ]
    }
   ],
   "source": [
    "model = KerasClassifier(build_fn = create_model, epochs = 10)"
   ]
  },
  {
   "cell_type": "code",
   "execution_count": 50,
   "metadata": {
    "ExecuteTime": {
     "end_time": "2020-04-20T02:41:18.920561Z",
     "start_time": "2020-04-20T02:41:18.915575Z"
    }
   },
   "outputs": [],
   "source": [
    "RS_CV = RandomizedSearchCV(model, n_iter = 10, param_distributions = NN_parameters, cv = 3)"
   ]
  },
  {
   "cell_type": "code",
   "execution_count": 51,
   "metadata": {
    "ExecuteTime": {
     "end_time": "2020-04-20T02:51:55.427480Z",
     "start_time": "2020-04-20T02:41:18.921561Z"
    }
   },
   "outputs": [
    {
     "name": "stdout",
     "output_type": "stream",
     "text": [
      "Epoch 1/10\n",
      "700/700 [==============================] - 2s 2ms/step - loss: 0.5612 - accuracy: 0.8527\n",
      "Epoch 2/10\n",
      "700/700 [==============================] - 2s 2ms/step - loss: 0.2738 - accuracy: 0.9214\n",
      "Epoch 3/10\n",
      "700/700 [==============================] - 1s 2ms/step - loss: 0.2171 - accuracy: 0.9354\n",
      "Epoch 4/10\n",
      "700/700 [==============================] - 1s 2ms/step - loss: 0.1838 - accuracy: 0.9437\n",
      "Epoch 5/10\n",
      "700/700 [==============================] - 1s 2ms/step - loss: 0.1677 - accuracy: 0.9486\n",
      "Epoch 6/10\n",
      "700/700 [==============================] - 1s 2ms/step - loss: 0.1504 - accuracy: 0.9546\n",
      "Epoch 7/10\n",
      "700/700 [==============================] - 1s 1ms/step - loss: 0.1387 - accuracy: 0.9570\n",
      "Epoch 8/10\n",
      "700/700 [==============================] - 1s 2ms/step - loss: 0.1322 - accuracy: 0.9586\n",
      "Epoch 9/10\n",
      "700/700 [==============================] - 1s 2ms/step - loss: 0.1252 - accuracy: 0.9592\n",
      "Epoch 10/10\n",
      "700/700 [==============================] - 1s 1ms/step - loss: 0.1171 - accuracy: 0.9634\n",
      "350/350 [==============================] - 0s 953us/step - loss: 0.2246 - accuracy: 0.9376\n",
      "Epoch 1/10\n",
      "700/700 [==============================] - 1s 1ms/step - loss: 0.5600 - accuracy: 0.8511\n",
      "Epoch 2/10\n",
      "700/700 [==============================] - 1s 2ms/step - loss: 0.2743 - accuracy: 0.9216\n",
      "Epoch 3/10\n",
      "700/700 [==============================] - 1s 2ms/step - loss: 0.2202 - accuracy: 0.9357\n",
      "Epoch 4/10\n",
      "700/700 [==============================] - 1s 2ms/step - loss: 0.1884 - accuracy: 0.9446\n",
      "Epoch 5/10\n",
      "700/700 [==============================] - 1s 2ms/step - loss: 0.1671 - accuracy: 0.9508\n",
      "Epoch 6/10\n",
      "700/700 [==============================] - 1s 2ms/step - loss: 0.1583 - accuracy: 0.9522\n",
      "Epoch 7/10\n",
      "700/700 [==============================] - 1s 2ms/step - loss: 0.1456 - accuracy: 0.9549\n",
      "Epoch 8/10\n",
      "700/700 [==============================] - 2s 2ms/step - loss: 0.1362 - accuracy: 0.9583\n",
      "Epoch 9/10\n",
      "700/700 [==============================] - 2s 2ms/step - loss: 0.1299 - accuracy: 0.9596\n",
      "Epoch 10/10\n",
      "700/700 [==============================] - 2s 3ms/step - loss: 0.1247 - accuracy: 0.9617\n",
      "350/350 [==============================] - 1s 2ms/step - loss: 0.2062 - accuracy: 0.9397\n",
      "Epoch 1/10\n",
      "700/700 [==============================] - 3s 2ms/step - loss: 0.5773 - accuracy: 0.8417\n",
      "Epoch 2/10\n",
      "700/700 [==============================] - 2s 2ms/step - loss: 0.2823 - accuracy: 0.9179\n",
      "Epoch 3/10\n",
      "700/700 [==============================] - 1s 2ms/step - loss: 0.2267 - accuracy: 0.9317\n",
      "Epoch 4/10\n",
      "700/700 [==============================] - 1s 2ms/step - loss: 0.1992 - accuracy: 0.9401\n",
      "Epoch 5/10\n",
      "700/700 [==============================] - 1s 2ms/step - loss: 0.1748 - accuracy: 0.9483\n",
      "Epoch 6/10\n",
      "700/700 [==============================] - 1s 2ms/step - loss: 0.1634 - accuracy: 0.9510\n",
      "Epoch 7/10\n",
      "700/700 [==============================] - 1s 2ms/step - loss: 0.1505 - accuracy: 0.9549\n",
      "Epoch 8/10\n",
      "700/700 [==============================] - 1s 2ms/step - loss: 0.1430 - accuracy: 0.9568\n",
      "Epoch 9/10\n",
      "700/700 [==============================] - 1s 2ms/step - loss: 0.1366 - accuracy: 0.9590\n",
      "Epoch 10/10\n",
      "700/700 [==============================] - 1s 2ms/step - loss: 0.1274 - accuracy: 0.9602\n",
      "350/350 [==============================] - 1s 1ms/step - loss: 0.1974 - accuracy: 0.9425\n",
      "Epoch 1/10\n",
      "700/700 [==============================] - 4s 4ms/step - loss: 0.3461 - accuracy: 0.8936\n",
      "Epoch 2/10\n",
      "700/700 [==============================] - 2s 3ms/step - loss: 0.1558 - accuracy: 0.9509\n",
      "Epoch 3/10\n",
      "700/700 [==============================] - 2s 3ms/step - loss: 0.1142 - accuracy: 0.9639\n",
      "Epoch 4/10\n",
      "700/700 [==============================] - 2s 2ms/step - loss: 0.0875 - accuracy: 0.9702\n",
      "Epoch 5/10\n",
      "700/700 [==============================] - 3s 4ms/step - loss: 0.0728 - accuracy: 0.9760\n",
      "Epoch 6/10\n",
      "700/700 [==============================] - 4s 5ms/step - loss: 0.0612 - accuracy: 0.9788\n",
      "Epoch 7/10\n",
      "700/700 [==============================] - 2s 3ms/step - loss: 0.0561 - accuracy: 0.9806\n",
      "Epoch 8/10\n",
      "700/700 [==============================] - 3s 4ms/step - loss: 0.0454 - accuracy: 0.9846\n",
      "Epoch 9/10\n",
      "700/700 [==============================] - 3s 4ms/step - loss: 0.0423 - accuracy: 0.9856\n",
      "Epoch 10/10\n",
      "700/700 [==============================] - 3s 4ms/step - loss: 0.0366 - accuracy: 0.9882\n",
      "350/350 [==============================] - 1s 1ms/step - loss: 0.1357 - accuracy: 0.9672\n",
      "Epoch 1/10\n",
      "700/700 [==============================] - 3s 3ms/step - loss: 0.3353 - accuracy: 0.8965\n",
      "Epoch 2/10\n",
      "700/700 [==============================] - 2s 3ms/step - loss: 0.1540 - accuracy: 0.9521\n",
      "Epoch 3/10\n",
      "700/700 [==============================] - 2s 3ms/step - loss: 0.1204 - accuracy: 0.9612\n",
      "Epoch 4/10\n",
      "700/700 [==============================] - 2s 3ms/step - loss: 0.0886 - accuracy: 0.9725\n",
      "Epoch 5/10\n",
      "700/700 [==============================] - 3s 4ms/step - loss: 0.0742 - accuracy: 0.9757\n",
      "Epoch 6/10\n",
      "700/700 [==============================] - 2s 2ms/step - loss: 0.0581 - accuracy: 0.9808\n",
      "Epoch 7/10\n",
      "700/700 [==============================] - 2s 3ms/step - loss: 0.0565 - accuracy: 0.9816\n",
      "Epoch 8/10\n",
      "700/700 [==============================] - 3s 4ms/step - loss: 0.0441 - accuracy: 0.9851\n",
      "Epoch 9/10\n",
      "700/700 [==============================] - 3s 5ms/step - loss: 0.0452 - accuracy: 0.9849\n",
      "Epoch 10/10\n",
      "700/700 [==============================] - 4s 6ms/step - loss: 0.0408 - accuracy: 0.9865\n",
      "350/350 [==============================] - 1s 1ms/step - loss: 0.1373 - accuracy: 0.9639\n",
      "Epoch 1/10\n",
      "700/700 [==============================] - 3s 4ms/step - loss: 0.3427 - accuracy: 0.8935\n",
      "Epoch 2/10\n",
      "700/700 [==============================] - 2s 4ms/step - loss: 0.1600 - accuracy: 0.9506\n",
      "Epoch 3/10\n",
      "700/700 [==============================] - 3s 4ms/step - loss: 0.1115 - accuracy: 0.9654\n",
      "Epoch 4/10\n",
      "700/700 [==============================] - 2s 3ms/step - loss: 0.0925 - accuracy: 0.9701\n",
      "Epoch 5/10\n",
      "700/700 [==============================] - 2s 3ms/step - loss: 0.0764 - accuracy: 0.9757\n",
      "Epoch 6/10\n",
      "700/700 [==============================] - 3s 5ms/step - loss: 0.0638 - accuracy: 0.9791\n",
      "Epoch 7/10\n",
      "700/700 [==============================] - 2s 2ms/step - loss: 0.0570 - accuracy: 0.9812\n",
      "Epoch 8/10\n",
      "700/700 [==============================] - 3s 5ms/step - loss: 0.0496 - accuracy: 0.9840\n",
      "Epoch 9/10\n",
      "700/700 [==============================] - 2s 3ms/step - loss: 0.0424 - accuracy: 0.9861\n",
      "Epoch 10/10\n",
      "700/700 [==============================] - 2s 3ms/step - loss: 0.0375 - accuracy: 0.9880\n",
      "350/350 [==============================] - 1s 3ms/step - loss: 0.1179 - accuracy: 0.9688\n",
      "Epoch 1/10\n",
      "700/700 [==============================] - 2s 3ms/step - loss: 0.3190 - accuracy: 0.9061\n",
      "Epoch 2/10\n",
      "700/700 [==============================] - 2s 2ms/step - loss: 0.1415 - accuracy: 0.9578\n",
      "Epoch 3/10\n",
      "700/700 [==============================] - 2s 2ms/step - loss: 0.0945 - accuracy: 0.9707\n",
      "Epoch 4/10\n",
      "700/700 [==============================] - 2s 3ms/step - loss: 0.0707 - accuracy: 0.9767\n",
      "Epoch 5/10\n",
      "700/700 [==============================] - 2s 3ms/step - loss: 0.0599 - accuracy: 0.9804\n",
      "Epoch 6/10\n",
      "700/700 [==============================] - 2s 4ms/step - loss: 0.0488 - accuracy: 0.9842\n",
      "Epoch 7/10\n",
      "700/700 [==============================] - 2s 3ms/step - loss: 0.0384 - accuracy: 0.9872\n",
      "Epoch 8/10\n",
      "700/700 [==============================] - 1s 2ms/step - loss: 0.0337 - accuracy: 0.9892\n",
      "Epoch 9/10\n",
      "700/700 [==============================] - 2s 2ms/step - loss: 0.0305 - accuracy: 0.9900\n",
      "Epoch 10/10\n",
      "700/700 [==============================] - 2s 3ms/step - loss: 0.0259 - accuracy: 0.9914\n",
      "350/350 [==============================] - 1s 1ms/step - loss: 0.1386 - accuracy: 0.9672\n",
      "Epoch 1/10\n",
      "700/700 [==============================] - 3s 4ms/step - loss: 0.3213 - accuracy: 0.9038\n",
      "Epoch 2/10\n",
      "700/700 [==============================] - 2s 3ms/step - loss: 0.1495 - accuracy: 0.9538\n",
      "Epoch 3/10\n",
      "700/700 [==============================] - 2s 2ms/step - loss: 0.0977 - accuracy: 0.9700\n",
      "Epoch 4/10\n",
      "700/700 [==============================] - 2s 2ms/step - loss: 0.0809 - accuracy: 0.9736\n",
      "Epoch 5/10\n",
      "700/700 [==============================] - 2s 3ms/step - loss: 0.0636 - accuracy: 0.9797\n",
      "Epoch 6/10\n",
      "700/700 [==============================] - 2s 3ms/step - loss: 0.0516 - accuracy: 0.9833\n",
      "Epoch 7/10\n",
      "700/700 [==============================] - 2s 3ms/step - loss: 0.0406 - accuracy: 0.9867\n",
      "Epoch 8/10\n",
      "700/700 [==============================] - 3s 5ms/step - loss: 0.0359 - accuracy: 0.9878\n",
      "Epoch 9/10\n",
      "700/700 [==============================] - 3s 5ms/step - loss: 0.0344 - accuracy: 0.9888\n",
      "Epoch 10/10\n",
      "700/700 [==============================] - 3s 4ms/step - loss: 0.0294 - accuracy: 0.9903\n",
      "350/350 [==============================] - 0s 1ms/step - loss: 0.1261 - accuracy: 0.9663\n",
      "Epoch 1/10\n",
      "700/700 [==============================] - 3s 4ms/step - loss: 0.3200 - accuracy: 0.9044\n",
      "Epoch 2/10\n",
      "700/700 [==============================] - 2s 3ms/step - loss: 0.1464 - accuracy: 0.9558\n",
      "Epoch 3/10\n",
      "700/700 [==============================] - 3s 4ms/step - loss: 0.1033 - accuracy: 0.9674\n",
      "Epoch 4/10\n",
      "700/700 [==============================] - 3s 4ms/step - loss: 0.0782 - accuracy: 0.9754\n",
      "Epoch 5/10\n",
      "700/700 [==============================] - 2s 3ms/step - loss: 0.0653 - accuracy: 0.9797\n",
      "Epoch 6/10\n",
      "700/700 [==============================] - 2s 3ms/step - loss: 0.0476 - accuracy: 0.9851\n",
      "Epoch 7/10\n",
      "700/700 [==============================] - 2s 3ms/step - loss: 0.0454 - accuracy: 0.9842\n",
      "Epoch 8/10\n",
      "700/700 [==============================] - 2s 4ms/step - loss: 0.0381 - accuracy: 0.9879\n",
      "Epoch 9/10\n",
      "700/700 [==============================] - 2s 3ms/step - loss: 0.0289 - accuracy: 0.9904\n",
      "Epoch 10/10\n",
      "700/700 [==============================] - 2s 3ms/step - loss: 0.0290 - accuracy: 0.9900\n",
      "350/350 [==============================] - 1s 2ms/step - loss: 0.1136 - accuracy: 0.9686\n",
      "Epoch 1/10\n",
      "700/700 [==============================] - 4s 4ms/step - loss: 0.3749 - accuracy: 0.8849\n",
      "Epoch 2/10\n",
      "700/700 [==============================] - 4s 5ms/step - loss: 0.1802 - accuracy: 0.9424\n",
      "Epoch 3/10\n",
      "700/700 [==============================] - 4s 6ms/step - loss: 0.1314 - accuracy: 0.9580\n",
      "Epoch 4/10\n",
      "700/700 [==============================] - 4s 5ms/step - loss: 0.1048 - accuracy: 0.9658\n",
      "Epoch 5/10\n",
      "700/700 [==============================] - 3s 4ms/step - loss: 0.0896 - accuracy: 0.9709\n",
      "Epoch 6/10\n",
      "700/700 [==============================] - 3s 4ms/step - loss: 0.0801 - accuracy: 0.9737\n",
      "Epoch 7/10\n",
      "700/700 [==============================] - 3s 5ms/step - loss: 0.0716 - accuracy: 0.9761\n",
      "Epoch 8/10\n",
      "700/700 [==============================] - 3s 4ms/step - loss: 0.0616 - accuracy: 0.9804\n",
      "Epoch 9/10\n",
      "700/700 [==============================] - 2s 3ms/step - loss: 0.0515 - accuracy: 0.9825\n",
      "Epoch 10/10\n",
      "700/700 [==============================] - 2s 3ms/step - loss: 0.0509 - accuracy: 0.9828\n",
      "350/350 [==============================] - 1s 1ms/step - loss: 0.1417 - accuracy: 0.9654\n",
      "Epoch 1/10\n",
      "700/700 [==============================] - 5s 6ms/step - loss: 0.3701 - accuracy: 0.8838\n",
      "Epoch 2/10\n",
      "700/700 [==============================] - 3s 4ms/step - loss: 0.1784 - accuracy: 0.9459\n",
      "Epoch 3/10\n",
      "700/700 [==============================] - 3s 5ms/step - loss: 0.1338 - accuracy: 0.9586\n",
      "Epoch 4/10\n",
      "700/700 [==============================] - 3s 4ms/step - loss: 0.1083 - accuracy: 0.9640\n",
      "Epoch 5/10\n",
      "700/700 [==============================] - 2s 3ms/step - loss: 0.0863 - accuracy: 0.9722\n",
      "Epoch 6/10\n",
      "700/700 [==============================] - 3s 4ms/step - loss: 0.0785 - accuracy: 0.9748\n",
      "Epoch 7/10\n",
      "700/700 [==============================] - 2s 2ms/step - loss: 0.0684 - accuracy: 0.9788\n",
      "Epoch 8/10\n",
      "700/700 [==============================] - 3s 5ms/step - loss: 0.0585 - accuracy: 0.9809\n",
      "Epoch 9/10\n",
      "700/700 [==============================] - 3s 4ms/step - loss: 0.0566 - accuracy: 0.9820\n",
      "Epoch 10/10\n",
      "700/700 [==============================] - 3s 4ms/step - loss: 0.0447 - accuracy: 0.9850\n",
      "350/350 [==============================] - 1s 2ms/step - loss: 0.1233 - accuracy: 0.9656\n",
      "Epoch 1/10\n",
      "700/700 [==============================] - 4s 4ms/step - loss: 0.3662 - accuracy: 0.8836\n",
      "Epoch 2/10\n",
      "700/700 [==============================] - 3s 4ms/step - loss: 0.1749 - accuracy: 0.9462\n",
      "Epoch 3/10\n",
      "700/700 [==============================] - 3s 4ms/step - loss: 0.1347 - accuracy: 0.9568\n",
      "Epoch 4/10\n",
      "700/700 [==============================] - 3s 4ms/step - loss: 0.1067 - accuracy: 0.9671\n",
      "Epoch 5/10\n",
      "700/700 [==============================] - 3s 4ms/step - loss: 0.0833 - accuracy: 0.9742\n",
      "Epoch 6/10\n",
      "700/700 [==============================] - 3s 4ms/step - loss: 0.0805 - accuracy: 0.9732\n",
      "Epoch 7/10\n",
      "700/700 [==============================] - 3s 4ms/step - loss: 0.0686 - accuracy: 0.9771\n",
      "Epoch 8/10\n",
      "700/700 [==============================] - 3s 4ms/step - loss: 0.0561 - accuracy: 0.9827\n",
      "Epoch 9/10\n",
      "700/700 [==============================] - 3s 4ms/step - loss: 0.0550 - accuracy: 0.9827\n",
      "Epoch 10/10\n",
      "700/700 [==============================] - 3s 4ms/step - loss: 0.0467 - accuracy: 0.9844\n",
      "350/350 [==============================] - 1s 2ms/step - loss: 0.1340 - accuracy: 0.9638\n",
      "Epoch 1/10\n",
      "700/700 [==============================] - 3s 3ms/step - loss: 0.4740 - accuracy: 0.8566\n",
      "Epoch 2/10\n",
      "700/700 [==============================] - 2s 3ms/step - loss: 0.2076 - accuracy: 0.9362\n",
      "Epoch 3/10\n",
      "700/700 [==============================] - 2s 3ms/step - loss: 0.1565 - accuracy: 0.9514\n",
      "Epoch 4/10\n",
      "700/700 [==============================] - 2s 3ms/step - loss: 0.1251 - accuracy: 0.9596\n",
      "Epoch 5/10\n",
      "700/700 [==============================] - 3s 4ms/step - loss: 0.1079 - accuracy: 0.9655\n",
      "Epoch 6/10\n",
      "700/700 [==============================] - 2s 4ms/step - loss: 0.0929 - accuracy: 0.9696\n",
      "Epoch 7/10\n",
      "700/700 [==============================] - 2s 3ms/step - loss: 0.0851 - accuracy: 0.9733\n",
      "Epoch 8/10\n",
      "700/700 [==============================] - 2s 3ms/step - loss: 0.0728 - accuracy: 0.9762\n",
      "Epoch 9/10\n",
      "700/700 [==============================] - 3s 4ms/step - loss: 0.0654 - accuracy: 0.9787\n",
      "Epoch 10/10\n",
      "700/700 [==============================] - 3s 4ms/step - loss: 0.0550 - accuracy: 0.9832\n",
      "350/350 [==============================] - 1s 2ms/step - loss: 0.1488 - accuracy: 0.9605\n",
      "Epoch 1/10\n",
      "700/700 [==============================] - 3s 3ms/step - loss: 0.4932 - accuracy: 0.8488\n",
      "Epoch 2/10\n",
      "700/700 [==============================] - 2s 3ms/step - loss: 0.2117 - accuracy: 0.9364\n",
      "Epoch 3/10\n",
      "700/700 [==============================] - 2s 2ms/step - loss: 0.1569 - accuracy: 0.9511\n",
      "Epoch 4/10\n",
      "700/700 [==============================] - 2s 3ms/step - loss: 0.1285 - accuracy: 0.9609\n",
      "Epoch 5/10\n",
      "700/700 [==============================] - 2s 2ms/step - loss: 0.1147 - accuracy: 0.9633\n",
      "Epoch 6/10\n",
      "700/700 [==============================] - 2s 4ms/step - loss: 0.0934 - accuracy: 0.9688\n",
      "Epoch 7/10\n",
      "700/700 [==============================] - 2s 3ms/step - loss: 0.0846 - accuracy: 0.9725\n",
      "Epoch 8/10\n",
      "700/700 [==============================] - 2s 3ms/step - loss: 0.0735 - accuracy: 0.9751\n",
      "Epoch 9/10\n",
      "700/700 [==============================] - 2s 2ms/step - loss: 0.0652 - accuracy: 0.9782\n",
      "Epoch 10/10\n",
      "700/700 [==============================] - 2s 3ms/step - loss: 0.0541 - accuracy: 0.9824\n",
      "350/350 [==============================] - 1s 1ms/step - loss: 0.1656 - accuracy: 0.9547\n",
      "Epoch 1/10\n",
      "700/700 [==============================] - 3s 3ms/step - loss: 0.4769 - accuracy: 0.8533\n",
      "Epoch 2/10\n",
      "700/700 [==============================] - 2s 3ms/step - loss: 0.2224 - accuracy: 0.9315\n",
      "Epoch 3/10\n",
      "700/700 [==============================] - 2s 4ms/step - loss: 0.1642 - accuracy: 0.9489\n",
      "Epoch 4/10\n",
      "700/700 [==============================] - 2s 3ms/step - loss: 0.1409 - accuracy: 0.9568\n",
      "Epoch 5/10\n",
      "700/700 [==============================] - 2s 3ms/step - loss: 0.1153 - accuracy: 0.9628\n",
      "Epoch 6/10\n",
      "700/700 [==============================] - 2s 3ms/step - loss: 0.0976 - accuracy: 0.9690\n",
      "Epoch 7/10\n",
      "700/700 [==============================] - 3s 4ms/step - loss: 0.0935 - accuracy: 0.9713\n",
      "Epoch 8/10\n",
      "700/700 [==============================] - 2s 3ms/step - loss: 0.0760 - accuracy: 0.9754\n",
      "Epoch 9/10\n",
      "700/700 [==============================] - 2s 3ms/step - loss: 0.0696 - accuracy: 0.9771\n",
      "Epoch 10/10\n",
      "700/700 [==============================] - 3s 4ms/step - loss: 0.0621 - accuracy: 0.9800\n"
     ]
    },
    {
     "name": "stdout",
     "output_type": "stream",
     "text": [
      "350/350 [==============================] - 1s 1ms/step - loss: 0.1218 - accuracy: 0.9666\n",
      "Epoch 1/10\n",
      "700/700 [==============================] - 2s 2ms/step - loss: 0.5994 - accuracy: 0.8324\n",
      "Epoch 2/10\n",
      "700/700 [==============================] - 1s 2ms/step - loss: 0.2801 - accuracy: 0.9192\n",
      "Epoch 3/10\n",
      "700/700 [==============================] - 1s 2ms/step - loss: 0.2321 - accuracy: 0.9328\n",
      "Epoch 4/10\n",
      "700/700 [==============================] - 1s 2ms/step - loss: 0.2066 - accuracy: 0.9387\n",
      "Epoch 5/10\n",
      "700/700 [==============================] - 1s 2ms/step - loss: 0.1868 - accuracy: 0.9447\n",
      "Epoch 6/10\n",
      "700/700 [==============================] - 1s 2ms/step - loss: 0.1693 - accuracy: 0.9487\n",
      "Epoch 7/10\n",
      "700/700 [==============================] - 1s 2ms/step - loss: 0.1619 - accuracy: 0.9506\n",
      "Epoch 8/10\n",
      "700/700 [==============================] - 1s 2ms/step - loss: 0.1539 - accuracy: 0.9517\n",
      "Epoch 9/10\n",
      "700/700 [==============================] - 1s 2ms/step - loss: 0.1424 - accuracy: 0.9557\n",
      "Epoch 10/10\n",
      "700/700 [==============================] - 1s 2ms/step - loss: 0.1360 - accuracy: 0.9587\n",
      "350/350 [==============================] - 1s 1ms/step - loss: 0.2179 - accuracy: 0.9413\n",
      "Epoch 1/10\n",
      "700/700 [==============================] - 2s 2ms/step - loss: 0.6475 - accuracy: 0.8156\n",
      "Epoch 2/10\n",
      "700/700 [==============================] - 1s 2ms/step - loss: 0.3101 - accuracy: 0.9087\n",
      "Epoch 3/10\n",
      "700/700 [==============================] - 2s 2ms/step - loss: 0.2451 - accuracy: 0.9285\n",
      "Epoch 4/10\n",
      "700/700 [==============================] - 1s 2ms/step - loss: 0.2109 - accuracy: 0.9361\n",
      "Epoch 5/10\n",
      "700/700 [==============================] - 1s 2ms/step - loss: 0.1880 - accuracy: 0.9429\n",
      "Epoch 6/10\n",
      "700/700 [==============================] - 1s 2ms/step - loss: 0.1736 - accuracy: 0.9461\n",
      "Epoch 7/10\n",
      "700/700 [==============================] - 1s 2ms/step - loss: 0.1622 - accuracy: 0.9503\n",
      "Epoch 8/10\n",
      "700/700 [==============================] - 1s 2ms/step - loss: 0.1521 - accuracy: 0.9532\n",
      "Epoch 9/10\n",
      "700/700 [==============================] - 1s 2ms/step - loss: 0.1439 - accuracy: 0.9551\n",
      "Epoch 10/10\n",
      "700/700 [==============================] - 1s 2ms/step - loss: 0.1379 - accuracy: 0.9575\n",
      "350/350 [==============================] - 1s 1ms/step - loss: 0.2080 - accuracy: 0.9387\n",
      "Epoch 1/10\n",
      "700/700 [==============================] - 2s 2ms/step - loss: 0.6341 - accuracy: 0.8220\n",
      "Epoch 2/10\n",
      "700/700 [==============================] - 1s 2ms/step - loss: 0.3101 - accuracy: 0.9097\n",
      "Epoch 3/10\n",
      "700/700 [==============================] - 1s 2ms/step - loss: 0.2564 - accuracy: 0.9250\n",
      "Epoch 4/10\n",
      "700/700 [==============================] - 1s 2ms/step - loss: 0.2262 - accuracy: 0.9317\n",
      "Epoch 5/10\n",
      "700/700 [==============================] - 1s 2ms/step - loss: 0.2044 - accuracy: 0.9408\n",
      "Epoch 6/10\n",
      "700/700 [==============================] - 1s 2ms/step - loss: 0.1846 - accuracy: 0.9448\n",
      "Epoch 7/10\n",
      "700/700 [==============================] - 1s 2ms/step - loss: 0.1744 - accuracy: 0.9482\n",
      "Epoch 8/10\n",
      "700/700 [==============================] - 2s 2ms/step - loss: 0.1609 - accuracy: 0.9521\n",
      "Epoch 9/10\n",
      "700/700 [==============================] - 1s 2ms/step - loss: 0.1504 - accuracy: 0.9542\n",
      "Epoch 10/10\n",
      "700/700 [==============================] - 1s 2ms/step - loss: 0.1469 - accuracy: 0.9556\n",
      "350/350 [==============================] - 1s 1ms/step - loss: 0.2016 - accuracy: 0.9396\n",
      "Epoch 1/10\n",
      "700/700 [==============================] - 1s 1ms/step - loss: 0.7314 - accuracy: 0.7998\n",
      "Epoch 2/10\n",
      "700/700 [==============================] - 1s 2ms/step - loss: 0.3550 - accuracy: 0.9062\n",
      "Epoch 3/10\n",
      "700/700 [==============================] - 1s 2ms/step - loss: 0.2833 - accuracy: 0.9212\n",
      "Epoch 4/10\n",
      "700/700 [==============================] - 1s 1ms/step - loss: 0.2402 - accuracy: 0.9323\n",
      "Epoch 5/10\n",
      "700/700 [==============================] - 1s 2ms/step - loss: 0.2116 - accuracy: 0.9395\n",
      "Epoch 6/10\n",
      "700/700 [==============================] - 1s 2ms/step - loss: 0.1871 - accuracy: 0.9473\n",
      "Epoch 7/10\n",
      "700/700 [==============================] - 1s 2ms/step - loss: 0.1694 - accuracy: 0.9533\n",
      "Epoch 8/10\n",
      "700/700 [==============================] - 1s 2ms/step - loss: 0.1548 - accuracy: 0.9561\n",
      "Epoch 9/10\n",
      "700/700 [==============================] - 1s 2ms/step - loss: 0.1415 - accuracy: 0.9595\n",
      "Epoch 10/10\n",
      "700/700 [==============================] - 1s 2ms/step - loss: 0.1321 - accuracy: 0.9617\n",
      "350/350 [==============================] - 0s 1ms/step - loss: 0.1878 - accuracy: 0.9457\n",
      "Epoch 1/10\n",
      "700/700 [==============================] - 2s 2ms/step - loss: 0.7108 - accuracy: 0.7958\n",
      "Epoch 2/10\n",
      "700/700 [==============================] - 1s 2ms/step - loss: 0.3587 - accuracy: 0.9006\n",
      "Epoch 3/10\n",
      "700/700 [==============================] - 1s 2ms/step - loss: 0.2762 - accuracy: 0.9219\n",
      "Epoch 4/10\n",
      "700/700 [==============================] - 1s 2ms/step - loss: 0.2356 - accuracy: 0.9312\n",
      "Epoch 5/10\n",
      "700/700 [==============================] - 2s 3ms/step - loss: 0.2021 - accuracy: 0.9400\n",
      "Epoch 6/10\n",
      "700/700 [==============================] - 1s 1ms/step - loss: 0.1842 - accuracy: 0.9473\n",
      "Epoch 7/10\n",
      "700/700 [==============================] - 1s 1ms/step - loss: 0.1633 - accuracy: 0.9517\n",
      "Epoch 8/10\n",
      "700/700 [==============================] - 1s 1ms/step - loss: 0.1513 - accuracy: 0.9554\n",
      "Epoch 9/10\n",
      "700/700 [==============================] - 1s 1ms/step - loss: 0.1386 - accuracy: 0.9593\n",
      "Epoch 10/10\n",
      "700/700 [==============================] - 1s 2ms/step - loss: 0.1298 - accuracy: 0.9628\n",
      "350/350 [==============================] - 1s 1ms/step - loss: 0.1661 - accuracy: 0.9505\n",
      "Epoch 1/10\n",
      "700/700 [==============================] - 1s 1ms/step - loss: 0.6918 - accuracy: 0.8101\n",
      "Epoch 2/10\n",
      "700/700 [==============================] - 1s 2ms/step - loss: 0.3539 - accuracy: 0.9036\n",
      "Epoch 3/10\n",
      "700/700 [==============================] - 1s 1ms/step - loss: 0.2817 - accuracy: 0.9219\n",
      "Epoch 4/10\n",
      "700/700 [==============================] - 1s 2ms/step - loss: 0.2419 - accuracy: 0.9334\n",
      "Epoch 5/10\n",
      "700/700 [==============================] - 1s 2ms/step - loss: 0.2137 - accuracy: 0.9404\n",
      "Epoch 6/10\n",
      "700/700 [==============================] - 1s 2ms/step - loss: 0.1916 - accuracy: 0.9459\n",
      "Epoch 7/10\n",
      "700/700 [==============================] - 1s 2ms/step - loss: 0.1747 - accuracy: 0.9510\n",
      "Epoch 8/10\n",
      "700/700 [==============================] - 1s 1ms/step - loss: 0.1573 - accuracy: 0.9569\n",
      "Epoch 9/10\n",
      "700/700 [==============================] - 1s 1ms/step - loss: 0.1475 - accuracy: 0.9575\n",
      "Epoch 10/10\n",
      "700/700 [==============================] - 1s 1ms/step - loss: 0.1377 - accuracy: 0.9615\n",
      "350/350 [==============================] - 1s 1ms/step - loss: 0.1719 - accuracy: 0.9495\n",
      "Epoch 1/10\n",
      "700/700 [==============================] - 2s 2ms/step - loss: 0.5929 - accuracy: 0.8360\n",
      "Epoch 2/10\n",
      "700/700 [==============================] - 2s 2ms/step - loss: 0.2742 - accuracy: 0.9203\n",
      "Epoch 3/10\n",
      "700/700 [==============================] - 1s 2ms/step - loss: 0.2200 - accuracy: 0.9346\n",
      "Epoch 4/10\n",
      "700/700 [==============================] - 1s 2ms/step - loss: 0.1877 - accuracy: 0.9436\n",
      "Epoch 5/10\n",
      "700/700 [==============================] - 1s 2ms/step - loss: 0.1684 - accuracy: 0.9491\n",
      "Epoch 6/10\n",
      "700/700 [==============================] - 1s 2ms/step - loss: 0.1551 - accuracy: 0.9507\n",
      "Epoch 7/10\n",
      "700/700 [==============================] - 1s 2ms/step - loss: 0.1398 - accuracy: 0.9571\n",
      "Epoch 8/10\n",
      "700/700 [==============================] - 1s 2ms/step - loss: 0.1334 - accuracy: 0.9582\n",
      "Epoch 9/10\n",
      "700/700 [==============================] - 1s 2ms/step - loss: 0.1256 - accuracy: 0.9613\n",
      "Epoch 10/10\n",
      "700/700 [==============================] - 1s 2ms/step - loss: 0.1151 - accuracy: 0.9640\n",
      "350/350 [==============================] - 1s 1ms/step - loss: 0.1957 - accuracy: 0.9470\n",
      "Epoch 1/10\n",
      "700/700 [==============================] - 2s 2ms/step - loss: 0.6045 - accuracy: 0.8355\n",
      "Epoch 2/10\n",
      "700/700 [==============================] - 1s 2ms/step - loss: 0.2890 - accuracy: 0.9152\n",
      "Epoch 3/10\n",
      "700/700 [==============================] - 1s 2ms/step - loss: 0.2333 - accuracy: 0.9317\n",
      "Epoch 4/10\n",
      "700/700 [==============================] - 1s 2ms/step - loss: 0.2016 - accuracy: 0.9393\n",
      "Epoch 5/10\n",
      "700/700 [==============================] - 1s 2ms/step - loss: 0.1816 - accuracy: 0.9450\n",
      "Epoch 6/10\n",
      "700/700 [==============================] - 1s 2ms/step - loss: 0.1670 - accuracy: 0.9496\n",
      "Epoch 7/10\n",
      "700/700 [==============================] - 1s 2ms/step - loss: 0.1549 - accuracy: 0.9530\n",
      "Epoch 8/10\n",
      "700/700 [==============================] - 1s 2ms/step - loss: 0.1446 - accuracy: 0.9564\n",
      "Epoch 9/10\n",
      "700/700 [==============================] - 1s 2ms/step - loss: 0.1420 - accuracy: 0.9576\n",
      "Epoch 10/10\n",
      "700/700 [==============================] - 1s 2ms/step - loss: 0.1307 - accuracy: 0.9595\n",
      "350/350 [==============================] - 0s 990us/step - loss: 0.2092 - accuracy: 0.9400\n",
      "Epoch 1/10\n",
      "700/700 [==============================] - 2s 2ms/step - loss: 0.6005 - accuracy: 0.8320\n",
      "Epoch 2/10\n",
      "700/700 [==============================] - 1s 2ms/step - loss: 0.2757 - accuracy: 0.9192\n",
      "Epoch 3/10\n",
      "700/700 [==============================] - 1s 2ms/step - loss: 0.2243 - accuracy: 0.9331\n",
      "Epoch 4/10\n",
      "700/700 [==============================] - 1s 2ms/step - loss: 0.1930 - accuracy: 0.9432\n",
      "Epoch 5/10\n",
      "700/700 [==============================] - 2s 2ms/step - loss: 0.1697 - accuracy: 0.9498\n",
      "Epoch 6/10\n",
      "700/700 [==============================] - 1s 1ms/step - loss: 0.1611 - accuracy: 0.9525\n",
      "Epoch 7/10\n",
      "700/700 [==============================] - 1s 2ms/step - loss: 0.1440 - accuracy: 0.9568\n",
      "Epoch 8/10\n",
      "700/700 [==============================] - 1s 2ms/step - loss: 0.1385 - accuracy: 0.9570\n",
      "Epoch 9/10\n",
      "700/700 [==============================] - 1s 2ms/step - loss: 0.1283 - accuracy: 0.9621\n",
      "Epoch 10/10\n",
      "700/700 [==============================] - 1s 2ms/step - loss: 0.1258 - accuracy: 0.9623\n",
      "350/350 [==============================] - 1s 1ms/step - loss: 0.2012 - accuracy: 0.9405\n",
      "Epoch 1/10\n",
      "700/700 [==============================] - 2s 2ms/step - loss: 0.5647 - accuracy: 0.8305\n",
      "Epoch 2/10\n",
      "700/700 [==============================] - 2s 2ms/step - loss: 0.2435 - accuracy: 0.9275\n",
      "Epoch 3/10\n",
      "700/700 [==============================] - 2s 2ms/step - loss: 0.1886 - accuracy: 0.9428\n",
      "Epoch 4/10\n",
      "700/700 [==============================] - 1s 2ms/step - loss: 0.1550 - accuracy: 0.9526\n",
      "Epoch 5/10\n",
      "700/700 [==============================] - 2s 2ms/step - loss: 0.1324 - accuracy: 0.9599\n",
      "Epoch 6/10\n",
      "700/700 [==============================] - 1s 2ms/step - loss: 0.1231 - accuracy: 0.9618\n",
      "Epoch 7/10\n",
      "700/700 [==============================] - 2s 3ms/step - loss: 0.1016 - accuracy: 0.9685\n",
      "Epoch 8/10\n",
      "700/700 [==============================] - 2s 3ms/step - loss: 0.0982 - accuracy: 0.9692\n",
      "Epoch 9/10\n",
      "700/700 [==============================] - 2s 2ms/step - loss: 0.0880 - accuracy: 0.9721\n",
      "Epoch 10/10\n",
      "700/700 [==============================] - 2s 2ms/step - loss: 0.0782 - accuracy: 0.9751\n",
      "350/350 [==============================] - 1s 1ms/step - loss: 0.1685 - accuracy: 0.9525\n",
      "Epoch 1/10\n",
      "700/700 [==============================] - 3s 3ms/step - loss: 0.5671 - accuracy: 0.8334\n",
      "Epoch 2/10\n",
      "700/700 [==============================] - 2s 3ms/step - loss: 0.2457 - accuracy: 0.9279\n",
      "Epoch 3/10\n",
      "700/700 [==============================] - 1s 2ms/step - loss: 0.1913 - accuracy: 0.9424\n",
      "Epoch 4/10\n",
      "700/700 [==============================] - 2s 3ms/step - loss: 0.1606 - accuracy: 0.9497\n",
      "Epoch 5/10\n",
      "700/700 [==============================] - 1s 2ms/step - loss: 0.1396 - accuracy: 0.9567\n",
      "Epoch 6/10\n",
      "700/700 [==============================] - 1s 2ms/step - loss: 0.1275 - accuracy: 0.9613\n",
      "Epoch 7/10\n",
      "700/700 [==============================] - 2s 3ms/step - loss: 0.1107 - accuracy: 0.9654\n",
      "Epoch 8/10\n",
      "700/700 [==============================] - 2s 2ms/step - loss: 0.0954 - accuracy: 0.9716\n",
      "Epoch 9/10\n",
      "700/700 [==============================] - 2s 3ms/step - loss: 0.0904 - accuracy: 0.9716\n",
      "Epoch 10/10\n",
      "700/700 [==============================] - 2s 3ms/step - loss: 0.0823 - accuracy: 0.9737\n",
      "350/350 [==============================] - 0s 1ms/step - loss: 0.1469 - accuracy: 0.9576\n",
      "Epoch 1/10\n",
      "700/700 [==============================] - 2s 2ms/step - loss: 0.5924 - accuracy: 0.8236\n",
      "Epoch 2/10\n",
      "700/700 [==============================] - 1s 2ms/step - loss: 0.2561 - accuracy: 0.9231\n",
      "Epoch 3/10\n",
      "700/700 [==============================] - 2s 3ms/step - loss: 0.2076 - accuracy: 0.9375\n",
      "Epoch 4/10\n",
      "700/700 [==============================] - 2s 3ms/step - loss: 0.1687 - accuracy: 0.9494\n",
      "Epoch 5/10\n",
      "700/700 [==============================] - 2s 3ms/step - loss: 0.1436 - accuracy: 0.9567\n",
      "Epoch 6/10\n",
      "700/700 [==============================] - 2s 3ms/step - loss: 0.1299 - accuracy: 0.9597\n",
      "Epoch 7/10\n",
      "700/700 [==============================] - 2s 3ms/step - loss: 0.1174 - accuracy: 0.9630\n",
      "Epoch 8/10\n",
      "700/700 [==============================] - 2s 3ms/step - loss: 0.1051 - accuracy: 0.9664\n",
      "Epoch 9/10\n",
      "700/700 [==============================] - 2s 3ms/step - loss: 0.0992 - accuracy: 0.9699\n",
      "Epoch 10/10\n",
      "700/700 [==============================] - 2s 3ms/step - loss: 0.0905 - accuracy: 0.9714\n",
      "350/350 [==============================] - 1s 3ms/step - loss: 0.1461 - accuracy: 0.9556\n",
      "Epoch 1/10\n",
      "700/700 [==============================] - 3s 4ms/step - loss: 0.3898 - accuracy: 0.8843\n",
      "Epoch 2/10\n",
      "700/700 [==============================] - 3s 4ms/step - loss: 0.1691 - accuracy: 0.9485\n",
      "Epoch 3/10\n",
      "700/700 [==============================] - 2s 2ms/step - loss: 0.1259 - accuracy: 0.9603\n",
      "Epoch 4/10\n",
      "700/700 [==============================] - 2s 2ms/step - loss: 0.0942 - accuracy: 0.9711\n",
      "Epoch 5/10\n",
      "700/700 [==============================] - 2s 3ms/step - loss: 0.0772 - accuracy: 0.9762\n",
      "Epoch 6/10\n",
      "700/700 [==============================] - 2s 2ms/step - loss: 0.0645 - accuracy: 0.9798\n",
      "Epoch 7/10\n",
      "700/700 [==============================] - 2s 3ms/step - loss: 0.0528 - accuracy: 0.9829\n",
      "Epoch 8/10\n",
      "700/700 [==============================] - 2s 3ms/step - loss: 0.0482 - accuracy: 0.9842\n",
      "Epoch 9/10\n",
      "700/700 [==============================] - 1s 2ms/step - loss: 0.0348 - accuracy: 0.9889\n",
      "Epoch 10/10\n",
      "700/700 [==============================] - 1s 2ms/step - loss: 0.0366 - accuracy: 0.9887\n",
      "350/350 [==============================] - 1s 3ms/step - loss: 0.1478 - accuracy: 0.9620\n",
      "Epoch 1/10\n",
      "700/700 [==============================] - 2s 2ms/step - loss: 0.3893 - accuracy: 0.8871\n",
      "Epoch 2/10\n",
      "700/700 [==============================] - 1s 2ms/step - loss: 0.1747 - accuracy: 0.9484\n",
      "Epoch 3/10\n",
      "700/700 [==============================] - 2s 2ms/step - loss: 0.1248 - accuracy: 0.9608\n",
      "Epoch 4/10\n",
      "700/700 [==============================] - 2s 3ms/step - loss: 0.0951 - accuracy: 0.9704\n",
      "Epoch 5/10\n",
      "700/700 [==============================] - 2s 3ms/step - loss: 0.0760 - accuracy: 0.9756\n",
      "Epoch 6/10\n",
      "700/700 [==============================] - 2s 2ms/step - loss: 0.0581 - accuracy: 0.9815\n",
      "Epoch 7/10\n",
      "700/700 [==============================] - 3s 4ms/step - loss: 0.0539 - accuracy: 0.9819\n",
      "Epoch 8/10\n",
      "700/700 [==============================] - 2s 3ms/step - loss: 0.0426 - accuracy: 0.9860\n",
      "Epoch 9/10\n",
      "700/700 [==============================] - 2s 2ms/step - loss: 0.0359 - accuracy: 0.9887\n",
      "Epoch 10/10\n",
      "700/700 [==============================] - 1s 2ms/step - loss: 0.0400 - accuracy: 0.9869\n",
      "350/350 [==============================] - 0s 1ms/step - loss: 0.1520 - accuracy: 0.9579\n",
      "Epoch 1/10\n",
      "700/700 [==============================] - 2s 2ms/step - loss: 0.4063 - accuracy: 0.8820\n",
      "Epoch 2/10\n",
      "700/700 [==============================] - 3s 4ms/step - loss: 0.1758 - accuracy: 0.9507\n",
      "Epoch 3/10\n",
      "700/700 [==============================] - 3s 4ms/step - loss: 0.1270 - accuracy: 0.9629\n",
      "Epoch 4/10\n",
      "700/700 [==============================] - 2s 2ms/step - loss: 0.0995 - accuracy: 0.9696\n",
      "Epoch 5/10\n",
      "700/700 [==============================] - 2s 3ms/step - loss: 0.0809 - accuracy: 0.9742\n",
      "Epoch 6/10\n",
      "700/700 [==============================] - 2s 3ms/step - loss: 0.0673 - accuracy: 0.9792\n",
      "Epoch 7/10\n",
      "700/700 [==============================] - 2s 3ms/step - loss: 0.0608 - accuracy: 0.9808\n",
      "Epoch 8/10\n",
      "700/700 [==============================] - 2s 3ms/step - loss: 0.0480 - accuracy: 0.9852\n",
      "Epoch 9/10\n",
      "700/700 [==============================] - 2s 3ms/step - loss: 0.0452 - accuracy: 0.9855\n",
      "Epoch 10/10\n"
     ]
    },
    {
     "name": "stdout",
     "output_type": "stream",
     "text": [
      "700/700 [==============================] - 2s 3ms/step - loss: 0.0336 - accuracy: 0.9900\n",
      "350/350 [==============================] - 1s 3ms/step - loss: 0.1230 - accuracy: 0.9662\n",
      "Epoch 1/10\n",
      "1050/1050 [==============================] - 4s 3ms/step - loss: 0.2763 - accuracy: 0.9177\n",
      "Epoch 2/10\n",
      "1050/1050 [==============================] - 3s 3ms/step - loss: 0.1223 - accuracy: 0.9628\n",
      "Epoch 3/10\n",
      "1050/1050 [==============================] - 3s 3ms/step - loss: 0.0900 - accuracy: 0.9721\n",
      "Epoch 4/10\n",
      "1050/1050 [==============================] - 4s 4ms/step - loss: 0.0693 - accuracy: 0.9777\n",
      "Epoch 5/10\n",
      "1050/1050 [==============================] - 3s 3ms/step - loss: 0.0590 - accuracy: 0.9812\n",
      "Epoch 6/10\n",
      "1050/1050 [==============================] - 4s 4ms/step - loss: 0.0497 - accuracy: 0.9835\n",
      "Epoch 7/10\n",
      "1050/1050 [==============================] - 5s 4ms/step - loss: 0.0423 - accuracy: 0.9864\n",
      "Epoch 8/10\n",
      "1050/1050 [==============================] - 5s 4ms/step - loss: 0.0334 - accuracy: 0.9895\n",
      "Epoch 9/10\n",
      "1050/1050 [==============================] - 4s 4ms/step - loss: 0.0300 - accuracy: 0.9902\n",
      "Epoch 10/10\n",
      "1050/1050 [==============================] - 4s 3ms/step - loss: 0.0304 - accuracy: 0.9899\n"
     ]
    },
    {
     "data": {
      "text/plain": [
       "RandomizedSearchCV(cv=3,\n",
       "                   estimator=<keras.wrappers.scikit_learn.KerasClassifier object at 0x000001429C8DB580>,\n",
       "                   param_distributions={'activation': ['relu', 'tanh'],\n",
       "                                        'hl': [2, 3, 4],\n",
       "                                        'nodes': [16, 32, 64, 128],\n",
       "                                        'optimizer': ['sgd', 'adam']})"
      ]
     },
     "execution_count": 51,
     "metadata": {},
     "output_type": "execute_result"
    }
   ],
   "source": [
    "RS_CV.fit(X_train, y_train)"
   ]
  },
  {
   "cell_type": "code",
   "execution_count": 52,
   "metadata": {
    "ExecuteTime": {
     "end_time": "2020-04-20T02:51:55.439882Z",
     "start_time": "2020-04-20T02:51:55.430427Z"
    }
   },
   "outputs": [
    {
     "data": {
      "text/plain": [
       "{'optimizer': 'adam', 'nodes': 128, 'hl': 2, 'activation': 'relu'}"
      ]
     },
     "execution_count": 52,
     "metadata": {},
     "output_type": "execute_result"
    }
   ],
   "source": [
    "RS_CV.best_params_"
   ]
  },
  {
   "cell_type": "markdown",
   "metadata": {},
   "source": [
    "Best parameters:\n",
    "- Optimizer: Adaptive Moment Estimation\n",
    "- 2 hidden layers\n",
    "- Activation relu"
   ]
  },
  {
   "cell_type": "code",
   "execution_count": 53,
   "metadata": {
    "ExecuteTime": {
     "end_time": "2020-04-20T02:52:31.285489Z",
     "start_time": "2020-04-20T02:52:31.089459Z"
    }
   },
   "outputs": [],
   "source": [
    "model_fc_o = create_model(optimizer= \"sgd\", nodes = 128, hl = 3, activation = \"relu\")"
   ]
  },
  {
   "cell_type": "code",
   "execution_count": 54,
   "metadata": {
    "ExecuteTime": {
     "end_time": "2020-04-20T02:54:49.399586Z",
     "start_time": "2020-04-20T02:52:33.978990Z"
    }
   },
   "outputs": [
    {
     "name": "stdout",
     "output_type": "stream",
     "text": [
      "Epoch 1/100\n",
      "840/840 [==============================] - 3s 3ms/step - loss: 0.4514 - accuracy: 0.8642 - val_loss: 0.2413 - val_accuracy: 0.9290\n",
      "Epoch 2/100\n",
      "840/840 [==============================] - 3s 4ms/step - loss: 0.2238 - accuracy: 0.9346 - val_loss: 0.1941 - val_accuracy: 0.9439\n",
      "Epoch 3/100\n",
      "840/840 [==============================] - 4s 5ms/step - loss: 0.1656 - accuracy: 0.9517 - val_loss: 0.1530 - val_accuracy: 0.9548\n",
      "Epoch 4/100\n",
      "840/840 [==============================] - 4s 5ms/step - loss: 0.1346 - accuracy: 0.9604 - val_loss: 0.1354 - val_accuracy: 0.9580\n",
      "Epoch 5/100\n",
      "840/840 [==============================] - 4s 5ms/step - loss: 0.1141 - accuracy: 0.9666 - val_loss: 0.1328 - val_accuracy: 0.9598\n",
      "Epoch 6/100\n",
      "840/840 [==============================] - 3s 4ms/step - loss: 0.0977 - accuracy: 0.9714 - val_loss: 0.1244 - val_accuracy: 0.9621\n",
      "Epoch 7/100\n",
      "840/840 [==============================] - 5s 5ms/step - loss: 0.0830 - accuracy: 0.9766 - val_loss: 0.1095 - val_accuracy: 0.9655\n",
      "Epoch 8/100\n",
      "840/840 [==============================] - 4s 5ms/step - loss: 0.0708 - accuracy: 0.9791 - val_loss: 0.1145 - val_accuracy: 0.9644\n",
      "Epoch 9/100\n",
      "840/840 [==============================] - 5s 5ms/step - loss: 0.0627 - accuracy: 0.9820 - val_loss: 0.1110 - val_accuracy: 0.9647\n",
      "Epoch 10/100\n",
      "840/840 [==============================] - 4s 5ms/step - loss: 0.0532 - accuracy: 0.9854 - val_loss: 0.1055 - val_accuracy: 0.9659\n",
      "Epoch 11/100\n",
      "840/840 [==============================] - 4s 4ms/step - loss: 0.0496 - accuracy: 0.9868 - val_loss: 0.1082 - val_accuracy: 0.9662\n",
      "Epoch 12/100\n",
      "840/840 [==============================] - 5s 6ms/step - loss: 0.0413 - accuracy: 0.9889 - val_loss: 0.0978 - val_accuracy: 0.9690\n",
      "Epoch 13/100\n",
      "840/840 [==============================] - 3s 4ms/step - loss: 0.0378 - accuracy: 0.9899 - val_loss: 0.1016 - val_accuracy: 0.9698\n",
      "Epoch 14/100\n",
      "840/840 [==============================] - 4s 5ms/step - loss: 0.0335 - accuracy: 0.9910 - val_loss: 0.0970 - val_accuracy: 0.9696\n",
      "Epoch 15/100\n",
      "840/840 [==============================] - 3s 3ms/step - loss: 0.0311 - accuracy: 0.9921 - val_loss: 0.1076 - val_accuracy: 0.9661\n",
      "Epoch 16/100\n",
      "840/840 [==============================] - 3s 4ms/step - loss: 0.0295 - accuracy: 0.9929 - val_loss: 0.0968 - val_accuracy: 0.9699\n",
      "Epoch 17/100\n",
      "840/840 [==============================] - 3s 3ms/step - loss: 0.0243 - accuracy: 0.9942 - val_loss: 0.0937 - val_accuracy: 0.9708\n",
      "Epoch 18/100\n",
      "840/840 [==============================] - 3s 4ms/step - loss: 0.0229 - accuracy: 0.9944 - val_loss: 0.0940 - val_accuracy: 0.9719\n",
      "Epoch 19/100\n",
      "840/840 [==============================] - 4s 4ms/step - loss: 0.0207 - accuracy: 0.9951 - val_loss: 0.0947 - val_accuracy: 0.9732\n",
      "Epoch 20/100\n",
      "840/840 [==============================] - 3s 4ms/step - loss: 0.0174 - accuracy: 0.9968 - val_loss: 0.0950 - val_accuracy: 0.9711\n",
      "Epoch 21/100\n",
      "840/840 [==============================] - 4s 5ms/step - loss: 0.0175 - accuracy: 0.9962 - val_loss: 0.0958 - val_accuracy: 0.9719\n",
      "Epoch 22/100\n",
      "840/840 [==============================] - 3s 4ms/step - loss: 0.0154 - accuracy: 0.9968 - val_loss: 0.0958 - val_accuracy: 0.9701\n",
      "Epoch 23/100\n",
      "840/840 [==============================] - 4s 5ms/step - loss: 0.0134 - accuracy: 0.9975 - val_loss: 0.0966 - val_accuracy: 0.9702\n",
      "Epoch 24/100\n",
      "840/840 [==============================] - 4s 5ms/step - loss: 0.0133 - accuracy: 0.9974 - val_loss: 0.0976 - val_accuracy: 0.9704\n",
      "Epoch 25/100\n",
      "840/840 [==============================] - 4s 5ms/step - loss: 0.0127 - accuracy: 0.9978 - val_loss: 0.1000 - val_accuracy: 0.9692\n",
      "Epoch 26/100\n",
      "840/840 [==============================] - 5s 5ms/step - loss: 0.0110 - accuracy: 0.9984 - val_loss: 0.0956 - val_accuracy: 0.9722\n",
      "Epoch 27/100\n",
      "840/840 [==============================] - 4s 5ms/step - loss: 0.0105 - accuracy: 0.9981 - val_loss: 0.0993 - val_accuracy: 0.9717\n",
      "Epoch 28/100\n",
      "840/840 [==============================] - 5s 6ms/step - loss: 0.0102 - accuracy: 0.9981 - val_loss: 0.0962 - val_accuracy: 0.9713\n",
      "Epoch 29/100\n",
      "840/840 [==============================] - 4s 5ms/step - loss: 0.0088 - accuracy: 0.9988 - val_loss: 0.1018 - val_accuracy: 0.9716\n"
     ]
    }
   ],
   "source": [
    "history = model_fc_o.fit(X_train, y_train, validation_split = 0.2, epochs = 100, callbacks = [early_stopping])"
   ]
  },
  {
   "cell_type": "code",
   "execution_count": 55,
   "metadata": {
    "ExecuteTime": {
     "end_time": "2020-04-20T02:54:49.654309Z",
     "start_time": "2020-04-20T02:54:49.403620Z"
    }
   },
   "outputs": [
    {
     "data": {
      "image/png": "[encoded data removed]",
      "text/plain": [
       "<Figure size 576x288 with 1 Axes>"
      ]
     },
     "metadata": {
      "needs_background": "light"
     },
     "output_type": "display_data"
    }
   ],
   "source": [
    "fig = plt.figure(figsize = (8,4))\n",
    "ax1= plt.plot(history.history[\"accuracy\"], label = \"training\")\n",
    "ax2 = plt.plot(history.history[\"val_accuracy\"], label = \"validation\")\n",
    "plt.legend(loc=\"upper left\")\n",
    "plt.xlabel(\"Epochs\")\n",
    "plt.ylim(0.9,1)\n",
    "plt.ylabel(\"Accuracy\")\n",
    "plt.title(\"Training accuracy and Validation accuracy by epochs\");"
   ]
  },
  {
   "cell_type": "code",
   "execution_count": 56,
   "metadata": {
    "ExecuteTime": {
     "end_time": "2020-04-20T02:54:50.000973Z",
     "start_time": "2020-04-20T02:54:49.655470Z"
    }
   },
   "outputs": [
    {
     "name": "stdout",
     "output_type": "stream",
     "text": [
      "263/263 [==============================] - 2s 4ms/step - loss: 0.1231 - accuracy: 0.9682\n"
     ]
    }
   ],
   "source": [
    "test_accuracy = model_fc_o.evaluate(X_test, y_test)[1]"
   ]
  },
  {
   "cell_type": "code",
   "execution_count": 57,
   "metadata": {
    "ExecuteTime": {
     "end_time": "2020-04-20T02:54:50.012120Z",
     "start_time": "2020-04-20T02:54:50.001969Z"
    }
   },
   "outputs": [
    {
     "name": "stderr",
     "output_type": "stream",
     "text": [
      "C:\\Users\\Kajal\\AppData\\Local\\Temp/ipykernel_30436/138887270.py:1: FutureWarning: The frame.append method is deprecated and will be removed from pandas in a future version. Use pandas.concat instead.\n",
      "  Summary_table  = Summary_table.append({\"model\": \"Opimized NN (3 HL, 128 nodes)\", \"Test accuracy\": np.round(test_accuracy,3) }, ignore_index = True)\n"
     ]
    }
   ],
   "source": [
    "Summary_table  = Summary_table.append({\"model\": \"Opimized NN (3 HL, 128 nodes)\", \"Test accuracy\": np.round(test_accuracy,3) }, ignore_index = True)"
   ]
  },
  {
   "cell_type": "code",
   "execution_count": 58,
   "metadata": {
    "ExecuteTime": {
     "end_time": "2020-04-20T02:54:50.029327Z",
     "start_time": "2020-04-20T02:54:50.013117Z"
    }
   },
   "outputs": [
    {
     "data": {
      "text/html": [
       "<div>\n",
       "<style scoped>\n",
       "    .dataframe tbody tr th:only-of-type {\n",
       "        vertical-align: middle;\n",
       "    }\n",
       "\n",
       "    .dataframe tbody tr th {\n",
       "        vertical-align: top;\n",
       "    }\n",
       "\n",
       "    .dataframe thead th {\n",
       "        text-align: right;\n",
       "    }\n",
       "</style>\n",
       "<table border=\"1\" class=\"dataframe\">\n",
       "  <thead>\n",
       "    <tr style=\"text-align: right;\">\n",
       "      <th></th>\n",
       "      <th>model</th>\n",
       "      <th>Test accuracy</th>\n",
       "    </tr>\n",
       "  </thead>\n",
       "  <tbody>\n",
       "    <tr>\n",
       "      <th>0</th>\n",
       "      <td>Logistic Regression</td>\n",
       "      <td>0.92</td>\n",
       "    </tr>\n",
       "    <tr>\n",
       "      <th>1</th>\n",
       "      <td>Shallow NN</td>\n",
       "      <td>0.897</td>\n",
       "    </tr>\n",
       "    <tr>\n",
       "      <th>2</th>\n",
       "      <td>NN 2 HL,5 nodes</td>\n",
       "      <td>0.877</td>\n",
       "    </tr>\n",
       "    <tr>\n",
       "      <th>3</th>\n",
       "      <td>NN 2 HL,16 nodes</td>\n",
       "      <td>0.942</td>\n",
       "    </tr>\n",
       "    <tr>\n",
       "      <th>4</th>\n",
       "      <td>Opimized NN (3 HL, 128 nodes)</td>\n",
       "      <td>0.968</td>\n",
       "    </tr>\n",
       "  </tbody>\n",
       "</table>\n",
       "</div>"
      ],
      "text/plain": [
       "                           model Test accuracy\n",
       "0            Logistic Regression          0.92\n",
       "1                     Shallow NN         0.897\n",
       "2                NN 2 HL,5 nodes         0.877\n",
       "3               NN 2 HL,16 nodes         0.942\n",
       "4  Opimized NN (3 HL, 128 nodes)         0.968"
      ]
     },
     "execution_count": 58,
     "metadata": {},
     "output_type": "execute_result"
    }
   ],
   "source": [
    "Summary_table"
   ]
  },
  {
   "cell_type": "markdown",
   "metadata": {},
   "source": [
    "Observations:\n",
    "- Bayes error : 0 (Humans can perfectly identify)\n",
    "- Training error : 0.002\n",
    "- Test error: 0.030\n",
    "\n",
    "We have successfully reduced the bias but there is varaince now due to **overfitting**.Variance can be decreased by:\n",
    "- Drop out regularization\n",
    "- l2 Regularization "
   ]
  },
  {
   "cell_type": "markdown",
   "metadata": {},
   "source": [
    "## Dropout Regularization "
   ]
  },
  {
   "cell_type": "code",
   "execution_count": 59,
   "metadata": {
    "ExecuteTime": {
     "end_time": "2020-04-20T02:59:49.041678Z",
     "start_time": "2020-04-20T02:59:48.804564Z"
    }
   },
   "outputs": [],
   "source": [
    "model_fc_r = Sequential()\n",
    "model_fc_r.add(Dense(128, input_shape = (784,), activation = \"relu\"))\n",
    "model_fc_r.add(BatchNormalization())\n",
    "model_fc_r.add(Dropout(0.2))\n",
    "model_fc_r.add(Dense(128, activation = \"relu\"))\n",
    "model_fc_r.add(BatchNormalization())\n",
    "model_fc_r.add(Dropout(0.2))\n",
    "model_fc_r.add(Dense(128, activation = \"relu\"))\n",
    "model_fc_r.add(BatchNormalization())\n",
    "model_fc_r.add(Dropout(0.2))\n",
    "model_fc_r.add(Dense(10, activation = \"softmax\"))"
   ]
  },
  {
   "cell_type": "code",
   "execution_count": 60,
   "metadata": {
    "ExecuteTime": {
     "end_time": "2020-04-20T02:59:50.256807Z",
     "start_time": "2020-04-20T02:59:50.208316Z"
    }
   },
   "outputs": [],
   "source": [
    "model_fc_r.compile(optimizer = \"sgd\", loss = \"categorical_crossentropy\", metrics = [\"accuracy\"])"
   ]
  },
  {
   "cell_type": "code",
   "execution_count": 61,
   "metadata": {
    "ExecuteTime": {
     "end_time": "2020-04-20T03:04:54.756126Z",
     "start_time": "2020-04-20T02:59:50.678642Z"
    }
   },
   "outputs": [
    {
     "name": "stdout",
     "output_type": "stream",
     "text": [
      "Epoch 1/100\n",
      "840/840 [==============================] - 8s 6ms/step - loss: 0.7021 - accuracy: 0.7803 - val_loss: 0.2706 - val_accuracy: 0.9187\n",
      "Epoch 2/100\n",
      "840/840 [==============================] - 4s 5ms/step - loss: 0.3772 - accuracy: 0.8850 - val_loss: 0.2061 - val_accuracy: 0.9366\n",
      "Epoch 3/100\n",
      "840/840 [==============================] - 4s 5ms/step - loss: 0.3168 - accuracy: 0.9037 - val_loss: 0.1727 - val_accuracy: 0.9467\n",
      "Epoch 4/100\n",
      "840/840 [==============================] - 3s 4ms/step - loss: 0.2695 - accuracy: 0.9186 - val_loss: 0.1559 - val_accuracy: 0.9519\n",
      "Epoch 5/100\n",
      "840/840 [==============================] - 3s 4ms/step - loss: 0.2344 - accuracy: 0.9278 - val_loss: 0.1385 - val_accuracy: 0.9582\n",
      "Epoch 6/100\n",
      "840/840 [==============================] - 4s 5ms/step - loss: 0.2204 - accuracy: 0.9328 - val_loss: 0.1290 - val_accuracy: 0.9609\n",
      "Epoch 7/100\n",
      "840/840 [==============================] - 4s 4ms/step - loss: 0.2017 - accuracy: 0.9377 - val_loss: 0.1227 - val_accuracy: 0.9619\n",
      "Epoch 8/100\n",
      "840/840 [==============================] - 4s 5ms/step - loss: 0.1928 - accuracy: 0.9390 - val_loss: 0.1200 - val_accuracy: 0.9619\n",
      "Epoch 9/100\n",
      "840/840 [==============================] - 4s 5ms/step - loss: 0.1797 - accuracy: 0.9445 - val_loss: 0.1109 - val_accuracy: 0.9661\n",
      "Epoch 10/100\n",
      "840/840 [==============================] - 4s 4ms/step - loss: 0.1690 - accuracy: 0.9479 - val_loss: 0.1064 - val_accuracy: 0.9667\n",
      "Epoch 11/100\n",
      "840/840 [==============================] - 4s 4ms/step - loss: 0.1599 - accuracy: 0.9493 - val_loss: 0.1034 - val_accuracy: 0.9676\n",
      "Epoch 12/100\n",
      "840/840 [==============================] - 4s 4ms/step - loss: 0.1569 - accuracy: 0.9500 - val_loss: 0.1020 - val_accuracy: 0.9692\n",
      "Epoch 13/100\n",
      "840/840 [==============================] - 4s 4ms/step - loss: 0.1494 - accuracy: 0.9541 - val_loss: 0.1010 - val_accuracy: 0.9692\n",
      "Epoch 14/100\n",
      "840/840 [==============================] - 4s 4ms/step - loss: 0.1429 - accuracy: 0.9560 - val_loss: 0.0960 - val_accuracy: 0.9714\n",
      "Epoch 15/100\n",
      "840/840 [==============================] - 4s 5ms/step - loss: 0.1380 - accuracy: 0.9569 - val_loss: 0.0934 - val_accuracy: 0.9717\n",
      "Epoch 16/100\n",
      "840/840 [==============================] - 4s 5ms/step - loss: 0.1287 - accuracy: 0.9590 - val_loss: 0.0930 - val_accuracy: 0.9711\n",
      "Epoch 17/100\n",
      "840/840 [==============================] - 3s 4ms/step - loss: 0.1266 - accuracy: 0.9594 - val_loss: 0.0890 - val_accuracy: 0.9734\n",
      "Epoch 18/100\n",
      "840/840 [==============================] - 4s 4ms/step - loss: 0.1264 - accuracy: 0.9618 - val_loss: 0.0897 - val_accuracy: 0.9723\n",
      "Epoch 19/100\n",
      "840/840 [==============================] - 5s 6ms/step - loss: 0.1142 - accuracy: 0.9637 - val_loss: 0.0871 - val_accuracy: 0.9738\n",
      "Epoch 20/100\n",
      "840/840 [==============================] - 3s 4ms/step - loss: 0.1140 - accuracy: 0.9641 - val_loss: 0.0880 - val_accuracy: 0.9711\n",
      "Epoch 21/100\n",
      "840/840 [==============================] - 4s 4ms/step - loss: 0.1088 - accuracy: 0.9654 - val_loss: 0.0861 - val_accuracy: 0.9740\n",
      "Epoch 22/100\n",
      "840/840 [==============================] - 4s 5ms/step - loss: 0.1084 - accuracy: 0.9657 - val_loss: 0.0875 - val_accuracy: 0.9731\n",
      "Epoch 23/100\n",
      "840/840 [==============================] - 3s 4ms/step - loss: 0.1081 - accuracy: 0.9666 - val_loss: 0.0893 - val_accuracy: 0.9740\n",
      "Epoch 24/100\n",
      "840/840 [==============================] - 3s 4ms/step - loss: 0.1029 - accuracy: 0.9667 - val_loss: 0.0855 - val_accuracy: 0.9740\n",
      "Epoch 25/100\n",
      "840/840 [==============================] - 3s 4ms/step - loss: 0.1005 - accuracy: 0.9687 - val_loss: 0.0845 - val_accuracy: 0.9738\n",
      "Epoch 26/100\n",
      "840/840 [==============================] - 4s 4ms/step - loss: 0.0976 - accuracy: 0.9686 - val_loss: 0.0826 - val_accuracy: 0.9734\n",
      "Epoch 27/100\n",
      "840/840 [==============================] - 4s 5ms/step - loss: 0.0989 - accuracy: 0.9687 - val_loss: 0.0815 - val_accuracy: 0.9746\n",
      "Epoch 28/100\n",
      "840/840 [==============================] - 3s 4ms/step - loss: 0.0920 - accuracy: 0.9701 - val_loss: 0.0834 - val_accuracy: 0.9746\n",
      "Epoch 29/100\n",
      "840/840 [==============================] - 4s 4ms/step - loss: 0.0907 - accuracy: 0.9701 - val_loss: 0.0808 - val_accuracy: 0.9756\n",
      "Epoch 30/100\n",
      "840/840 [==============================] - 3s 4ms/step - loss: 0.0865 - accuracy: 0.9728 - val_loss: 0.0806 - val_accuracy: 0.9768\n",
      "Epoch 31/100\n",
      "840/840 [==============================] - 4s 4ms/step - loss: 0.0852 - accuracy: 0.9725 - val_loss: 0.0793 - val_accuracy: 0.9760\n",
      "Epoch 32/100\n",
      "840/840 [==============================] - 4s 4ms/step - loss: 0.0821 - accuracy: 0.9743 - val_loss: 0.0802 - val_accuracy: 0.9760\n",
      "Epoch 33/100\n",
      "840/840 [==============================] - 4s 4ms/step - loss: 0.0793 - accuracy: 0.9740 - val_loss: 0.0794 - val_accuracy: 0.9757\n",
      "Epoch 34/100\n",
      "840/840 [==============================] - 4s 5ms/step - loss: 0.0793 - accuracy: 0.9738 - val_loss: 0.0787 - val_accuracy: 0.9768\n",
      "Epoch 35/100\n",
      "840/840 [==============================] - 4s 4ms/step - loss: 0.0800 - accuracy: 0.9749 - val_loss: 0.0814 - val_accuracy: 0.9760\n",
      "Epoch 36/100\n",
      "840/840 [==============================] - 4s 5ms/step - loss: 0.0801 - accuracy: 0.9742 - val_loss: 0.0810 - val_accuracy: 0.9759\n",
      "Epoch 37/100\n",
      "840/840 [==============================] - 3s 4ms/step - loss: 0.0784 - accuracy: 0.9746 - val_loss: 0.0797 - val_accuracy: 0.9759\n",
      "Epoch 38/100\n",
      "840/840 [==============================] - 3s 4ms/step - loss: 0.0789 - accuracy: 0.9752 - val_loss: 0.0824 - val_accuracy: 0.9754\n",
      "Epoch 39/100\n",
      "840/840 [==============================] - 4s 5ms/step - loss: 0.0713 - accuracy: 0.9769 - val_loss: 0.0788 - val_accuracy: 0.9766\n",
      "Epoch 40/100\n",
      "840/840 [==============================] - 4s 5ms/step - loss: 0.0741 - accuracy: 0.9761 - val_loss: 0.0796 - val_accuracy: 0.9771\n",
      "Epoch 41/100\n",
      "840/840 [==============================] - 4s 5ms/step - loss: 0.0736 - accuracy: 0.9759 - val_loss: 0.0818 - val_accuracy: 0.9750\n",
      "Epoch 42/100\n",
      "840/840 [==============================] - 4s 5ms/step - loss: 0.0697 - accuracy: 0.9766 - val_loss: 0.0771 - val_accuracy: 0.9771\n",
      "Epoch 43/100\n",
      "840/840 [==============================] - 4s 5ms/step - loss: 0.0675 - accuracy: 0.9779 - val_loss: 0.0808 - val_accuracy: 0.9777\n",
      "Epoch 44/100\n",
      "840/840 [==============================] - 4s 5ms/step - loss: 0.0688 - accuracy: 0.9777 - val_loss: 0.0802 - val_accuracy: 0.9771\n",
      "Epoch 45/100\n",
      "840/840 [==============================] - 4s 4ms/step - loss: 0.0652 - accuracy: 0.9786 - val_loss: 0.0811 - val_accuracy: 0.9753\n",
      "Epoch 46/100\n",
      "840/840 [==============================] - 4s 5ms/step - loss: 0.0693 - accuracy: 0.9771 - val_loss: 0.0785 - val_accuracy: 0.9769\n",
      "Epoch 47/100\n",
      "840/840 [==============================] - 4s 4ms/step - loss: 0.0653 - accuracy: 0.9787 - val_loss: 0.0795 - val_accuracy: 0.9765\n",
      "Epoch 48/100\n",
      "840/840 [==============================] - 4s 5ms/step - loss: 0.0620 - accuracy: 0.9795 - val_loss: 0.0822 - val_accuracy: 0.9763\n",
      "Epoch 49/100\n",
      "840/840 [==============================] - 4s 5ms/step - loss: 0.0602 - accuracy: 0.9798 - val_loss: 0.0812 - val_accuracy: 0.9759\n",
      "Epoch 50/100\n",
      "840/840 [==============================] - 4s 5ms/step - loss: 0.0608 - accuracy: 0.9792 - val_loss: 0.0804 - val_accuracy: 0.9783\n",
      "Epoch 51/100\n",
      "840/840 [==============================] - 4s 4ms/step - loss: 0.0621 - accuracy: 0.9807 - val_loss: 0.0809 - val_accuracy: 0.9765\n",
      "Epoch 52/100\n",
      "840/840 [==============================] - 3s 4ms/step - loss: 0.0586 - accuracy: 0.9808 - val_loss: 0.0813 - val_accuracy: 0.9766\n",
      "Epoch 53/100\n",
      "840/840 [==============================] - 4s 4ms/step - loss: 0.0559 - accuracy: 0.9814 - val_loss: 0.0802 - val_accuracy: 0.9778\n",
      "Epoch 54/100\n",
      "840/840 [==============================] - 4s 4ms/step - loss: 0.0595 - accuracy: 0.9811 - val_loss: 0.0816 - val_accuracy: 0.9769\n",
      "Epoch 55/100\n",
      "840/840 [==============================] - 3s 4ms/step - loss: 0.0568 - accuracy: 0.9811 - val_loss: 0.0763 - val_accuracy: 0.9795\n",
      "Epoch 56/100\n",
      "840/840 [==============================] - 3s 4ms/step - loss: 0.0551 - accuracy: 0.9816 - val_loss: 0.0819 - val_accuracy: 0.9772\n",
      "Epoch 57/100\n",
      "840/840 [==============================] - 5s 5ms/step - loss: 0.0548 - accuracy: 0.9821 - val_loss: 0.0782 - val_accuracy: 0.9790\n"
     ]
    },
    {
     "name": "stdout",
     "output_type": "stream",
     "text": [
      "Epoch 58/100\n",
      "840/840 [==============================] - 4s 5ms/step - loss: 0.0564 - accuracy: 0.9812 - val_loss: 0.0768 - val_accuracy: 0.9786\n",
      "Epoch 59/100\n",
      "840/840 [==============================] - 5s 5ms/step - loss: 0.0542 - accuracy: 0.9827 - val_loss: 0.0795 - val_accuracy: 0.9780\n",
      "Epoch 60/100\n",
      "840/840 [==============================] - 4s 4ms/step - loss: 0.0550 - accuracy: 0.9821 - val_loss: 0.0788 - val_accuracy: 0.9787\n",
      "Epoch 61/100\n",
      "840/840 [==============================] - 4s 4ms/step - loss: 0.0526 - accuracy: 0.9830 - val_loss: 0.0767 - val_accuracy: 0.9778\n",
      "Epoch 62/100\n",
      "840/840 [==============================] - 4s 4ms/step - loss: 0.0480 - accuracy: 0.9840 - val_loss: 0.0781 - val_accuracy: 0.9778\n",
      "Epoch 63/100\n",
      "840/840 [==============================] - 3s 4ms/step - loss: 0.0499 - accuracy: 0.9830 - val_loss: 0.0813 - val_accuracy: 0.9780\n",
      "Epoch 64/100\n",
      "840/840 [==============================] - 5s 5ms/step - loss: 0.0501 - accuracy: 0.9829 - val_loss: 0.0796 - val_accuracy: 0.9778\n",
      "Epoch 65/100\n",
      "840/840 [==============================] - 4s 5ms/step - loss: 0.0527 - accuracy: 0.9823 - val_loss: 0.0800 - val_accuracy: 0.9784\n"
     ]
    }
   ],
   "source": [
    "history = model_fc_r.fit(X_train, y_train, validation_split = 0.2, epochs = 100, callbacks = [early_stopping])"
   ]
  },
  {
   "cell_type": "code",
   "execution_count": 62,
   "metadata": {
    "ExecuteTime": {
     "end_time": "2020-04-20T03:04:54.872829Z",
     "start_time": "2020-04-20T03:04:54.757124Z"
    }
   },
   "outputs": [
    {
     "data": {
      "image/png": "[encoded data removed]",
      "text/plain": [
       "<Figure size 576x288 with 1 Axes>"
      ]
     },
     "metadata": {
      "needs_background": "light"
     },
     "output_type": "display_data"
    }
   ],
   "source": [
    "fig = plt.figure(figsize = (8,4))\n",
    "ax1= plt.plot(history.history[\"accuracy\"], label = \"training\")\n",
    "ax2 = plt.plot(history.history[\"val_accuracy\"], label = \"validation\")\n",
    "plt.legend(loc=\"upper left\")\n",
    "plt.xlabel(\"Epochs\")\n",
    "plt.ylim(0.9,1)\n",
    "plt.ylabel(\"Accuracy\")\n",
    "plt.title(\"Training accuracy and Validation accuracy by epochs\");"
   ]
  },
  {
   "cell_type": "code",
   "execution_count": 63,
   "metadata": {
    "ExecuteTime": {
     "end_time": "2020-04-20T03:04:55.115044Z",
     "start_time": "2020-04-20T03:04:54.874853Z"
    }
   },
   "outputs": [
    {
     "name": "stdout",
     "output_type": "stream",
     "text": [
      "263/263 [==============================] - 1s 3ms/step - loss: 0.0990 - accuracy: 0.9746\n"
     ]
    }
   ],
   "source": [
    "test_accuracy = model_fc_r.evaluate(X_test, y_test)[1]"
   ]
  },
  {
   "cell_type": "code",
   "execution_count": 64,
   "metadata": {
    "ExecuteTime": {
     "end_time": "2020-04-20T03:04:55.121242Z",
     "start_time": "2020-04-20T03:04:55.116054Z"
    }
   },
   "outputs": [
    {
     "name": "stderr",
     "output_type": "stream",
     "text": [
      "C:\\Users\\Kajal\\AppData\\Local\\Temp/ipykernel_30436/3536854214.py:1: FutureWarning: The frame.append method is deprecated and will be removed from pandas in a future version. Use pandas.concat instead.\n",
      "  Summary_table  = Summary_table.append({\"model\": \"Opimized NN (3 HL, 128 nodes) with Dropout\", \"Test accuracy\": np.round(test_accuracy,3) }, ignore_index = True)\n"
     ]
    }
   ],
   "source": [
    "Summary_table  = Summary_table.append({\"model\": \"Opimized NN (3 HL, 128 nodes) with Dropout\", \"Test accuracy\": np.round(test_accuracy,3) }, ignore_index = True)"
   ]
  },
  {
   "cell_type": "code",
   "execution_count": 65,
   "metadata": {
    "ExecuteTime": {
     "end_time": "2020-04-20T03:04:55.147516Z",
     "start_time": "2020-04-20T03:04:55.123034Z"
    }
   },
   "outputs": [
    {
     "data": {
      "text/html": [
       "<div>\n",
       "<style scoped>\n",
       "    .dataframe tbody tr th:only-of-type {\n",
       "        vertical-align: middle;\n",
       "    }\n",
       "\n",
       "    .dataframe tbody tr th {\n",
       "        vertical-align: top;\n",
       "    }\n",
       "\n",
       "    .dataframe thead th {\n",
       "        text-align: right;\n",
       "    }\n",
       "</style>\n",
       "<table border=\"1\" class=\"dataframe\">\n",
       "  <thead>\n",
       "    <tr style=\"text-align: right;\">\n",
       "      <th></th>\n",
       "      <th>model</th>\n",
       "      <th>Test accuracy</th>\n",
       "    </tr>\n",
       "  </thead>\n",
       "  <tbody>\n",
       "    <tr>\n",
       "      <th>0</th>\n",
       "      <td>Logistic Regression</td>\n",
       "      <td>0.92</td>\n",
       "    </tr>\n",
       "    <tr>\n",
       "      <th>1</th>\n",
       "      <td>Shallow NN</td>\n",
       "      <td>0.897</td>\n",
       "    </tr>\n",
       "    <tr>\n",
       "      <th>2</th>\n",
       "      <td>NN 2 HL,5 nodes</td>\n",
       "      <td>0.877</td>\n",
       "    </tr>\n",
       "    <tr>\n",
       "      <th>3</th>\n",
       "      <td>NN 2 HL,16 nodes</td>\n",
       "      <td>0.942</td>\n",
       "    </tr>\n",
       "    <tr>\n",
       "      <th>4</th>\n",
       "      <td>Opimized NN (3 HL, 128 nodes)</td>\n",
       "      <td>0.968</td>\n",
       "    </tr>\n",
       "    <tr>\n",
       "      <th>5</th>\n",
       "      <td>Opimized NN (3 HL, 128 nodes) with Dropout</td>\n",
       "      <td>0.975</td>\n",
       "    </tr>\n",
       "  </tbody>\n",
       "</table>\n",
       "</div>"
      ],
      "text/plain": [
       "                                        model Test accuracy\n",
       "0                         Logistic Regression          0.92\n",
       "1                                  Shallow NN         0.897\n",
       "2                             NN 2 HL,5 nodes         0.877\n",
       "3                            NN 2 HL,16 nodes         0.942\n",
       "4               Opimized NN (3 HL, 128 nodes)         0.968\n",
       "5  Opimized NN (3 HL, 128 nodes) with Dropout         0.975"
      ]
     },
     "execution_count": 65,
     "metadata": {},
     "output_type": "execute_result"
    }
   ],
   "source": [
    "Summary_table"
   ]
  },
  {
   "cell_type": "markdown",
   "metadata": {},
   "source": [
    "Observation: <br>\n",
    "\n",
    " We reduced the variance using regularization and the model generalizes beeter "
   ]
  },
  {
   "cell_type": "markdown",
   "metadata": {},
   "source": [
    "## Convolutional Neural Network \n",
    "CNNs are great for image detection for following reasons: \n",
    "- **Lesser number of parameters to train**: CNNs filters involve paramter sharing across the image\n",
    "- **Sparsity of connections**: Each output is connected to a only a few inputs in CNNs, unlike fully connected layer where every input is connected to the output\n",
    "- **Roboust to translation in variance**: CNNs are robust to translation in variance of the image. This generally happens when the image is roatated, shifted, cropped however the image label is same hence this proprety is desirable in image recognition "
   ]
  },
  {
   "cell_type": "markdown",
   "metadata": {},
   "source": [
    "Trying a model similar to the LeNet-5 architechture\n",
    "- Layer1: CONV layer filter size 3x3, stride 1, Maxpooling layer 2x2, Batch Normalizaton\n",
    "- Layer2: CONV layer filter size 3x3, stride 1, Maxpooling layer 2x2, Batch Normalizaton\n",
    "- Layer3: Fully connected layer 128 nodes with Dropout\n",
    "- Layer4: Fully connected layer 64 nodes with Dropout"
   ]
  },
  {
   "cell_type": "code",
   "execution_count": 66,
   "metadata": {
    "ExecuteTime": {
     "end_time": "2020-04-20T03:04:55.306132Z",
     "start_time": "2020-04-20T03:04:55.149542Z"
    }
   },
   "outputs": [],
   "source": [
    "model_cnn1 = Sequential()\n",
    "#Layer1\n",
    "model_cnn1.add(Conv2D(filters = 8, kernel_size = (3,3), input_shape = (28,28,1), name= \"conv0\"))\n",
    "model_cnn1.add(BatchNormalization(name = \"bn0\"))\n",
    "model_cnn1.add(Activation(\"relu\", name = \"ac0\"))\n",
    "model_cnn1.add(MaxPooling2D(pool_size = (2,2), name = \"mp0\"))\n",
    "#Layer2\n",
    "model_cnn1.add(Conv2D(filters = 16, kernel_size = (3,3), name = \"conv1\"))\n",
    "model_cnn1.add(BatchNormalization(name = \"bn1\"))\n",
    "model_cnn1.add(Activation(\"relu\", name=\"ac1\"))\n",
    "model_cnn1.add(MaxPooling2D(pool_size = (2,2), name = \"mp1\"))\n",
    "#Flatten Outputs\n",
    "model_cnn1.add(Flatten())\n",
    "#Layer3\n",
    "model_cnn1.add(Dense(128, name = \"fc0\"))\n",
    "model_cnn1.add(BatchNormalization(name = \"bn2\"))\n",
    "model_cnn1.add(Activation(\"relu\", name = \"ac2\"))\n",
    "model_cnn1.add(Dropout(0.2))\n",
    "#Layer4\n",
    "model_cnn1.add(Dense(64, name = \"fc1\"))\n",
    "model_cnn1.add(BatchNormalization(name = \"bn3\"))\n",
    "model_cnn1.add(Activation(\"relu\", name = \"ac3\"))\n",
    "model_cnn1.add(Dropout(0.2))\n",
    "#Output\n",
    "model_cnn1.add(Dense(10, name = \"output\", activation = \"softmax\"))"
   ]
  },
  {
   "cell_type": "code",
   "execution_count": 67,
   "metadata": {
    "ExecuteTime": {
     "end_time": "2020-04-20T03:04:55.313070Z",
     "start_time": "2020-04-20T03:04:55.307087Z"
    }
   },
   "outputs": [
    {
     "name": "stdout",
     "output_type": "stream",
     "text": [
      "Model: \"sequential_36\"\n",
      "_________________________________________________________________\n",
      " Layer (type)                Output Shape              Param #   \n",
      "=================================================================\n",
      " conv0 (Conv2D)              (None, 26, 26, 8)         80        \n",
      "                                                                 \n",
      " bn0 (BatchNormalization)    (None, 26, 26, 8)         32        \n",
      "                                                                 \n",
      " ac0 (Activation)            (None, 26, 26, 8)         0         \n",
      "                                                                 \n",
      " mp0 (MaxPooling2D)          (None, 13, 13, 8)         0         \n",
      "                                                                 \n",
      " conv1 (Conv2D)              (None, 11, 11, 16)        1168      \n",
      "                                                                 \n",
      " bn1 (BatchNormalization)    (None, 11, 11, 16)        64        \n",
      "                                                                 \n",
      " ac1 (Activation)            (None, 11, 11, 16)        0         \n",
      "                                                                 \n",
      " mp1 (MaxPooling2D)          (None, 5, 5, 16)          0         \n",
      "                                                                 \n",
      " flatten (Flatten)           (None, 400)               0         \n",
      "                                                                 \n",
      " fc0 (Dense)                 (None, 128)               51328     \n",
      "                                                                 \n",
      " bn2 (BatchNormalization)    (None, 128)               512       \n",
      "                                                                 \n",
      " ac2 (Activation)            (None, 128)               0         \n",
      "                                                                 \n",
      " dropout_3 (Dropout)         (None, 128)               0         \n",
      "                                                                 \n",
      " fc1 (Dense)                 (None, 64)                8256      \n",
      "                                                                 \n",
      " bn3 (BatchNormalization)    (None, 64)                256       \n",
      "                                                                 \n",
      " ac3 (Activation)            (None, 64)                0         \n",
      "                                                                 \n",
      " dropout_4 (Dropout)         (None, 64)                0         \n",
      "                                                                 \n",
      " output (Dense)              (None, 10)                650       \n",
      "                                                                 \n",
      "=================================================================\n",
      "Total params: 62,346\n",
      "Trainable params: 61,914\n",
      "Non-trainable params: 432\n",
      "_________________________________________________________________\n"
     ]
    }
   ],
   "source": [
    "model_cnn1.summary()"
   ]
  },
  {
   "cell_type": "code",
   "execution_count": 68,
   "metadata": {
    "ExecuteTime": {
     "end_time": "2020-04-20T03:04:55.344061Z",
     "start_time": "2020-04-20T03:04:55.315065Z"
    }
   },
   "outputs": [],
   "source": [
    "model_cnn1.compile(optimizer = \"adam\", loss = \"categorical_crossentropy\",  metrics = [\"accuracy\"])"
   ]
  },
  {
   "cell_type": "code",
   "execution_count": 69,
   "metadata": {
    "ExecuteTime": {
     "end_time": "2020-04-20T03:09:17.163405Z",
     "start_time": "2020-04-20T03:04:55.344985Z"
    }
   },
   "outputs": [
    {
     "name": "stdout",
     "output_type": "stream",
     "text": [
      "Epoch 1/100\n",
      "840/840 [==============================] - 15s 17ms/step - loss: 0.3398 - accuracy: 0.9076 - val_loss: 0.0756 - val_accuracy: 0.9786\n",
      "Epoch 2/100\n",
      "840/840 [==============================] - 15s 17ms/step - loss: 0.1172 - accuracy: 0.9660 - val_loss: 0.0496 - val_accuracy: 0.9841\n",
      "Epoch 3/100\n",
      "840/840 [==============================] - 15s 18ms/step - loss: 0.0887 - accuracy: 0.9736 - val_loss: 0.0553 - val_accuracy: 0.9827\n",
      "Epoch 4/100\n",
      "840/840 [==============================] - 14s 16ms/step - loss: 0.0759 - accuracy: 0.9765 - val_loss: 0.0488 - val_accuracy: 0.9838\n",
      "Epoch 5/100\n",
      "840/840 [==============================] - 14s 16ms/step - loss: 0.0611 - accuracy: 0.9818 - val_loss: 0.0476 - val_accuracy: 0.9853\n",
      "Epoch 6/100\n",
      "840/840 [==============================] - 16s 19ms/step - loss: 0.0545 - accuracy: 0.9836 - val_loss: 0.0368 - val_accuracy: 0.9888\n",
      "Epoch 7/100\n",
      "840/840 [==============================] - 16s 19ms/step - loss: 0.0496 - accuracy: 0.9845 - val_loss: 0.0402 - val_accuracy: 0.9881\n",
      "Epoch 8/100\n",
      "840/840 [==============================] - 15s 18ms/step - loss: 0.0450 - accuracy: 0.9859 - val_loss: 0.0403 - val_accuracy: 0.9875\n",
      "Epoch 9/100\n",
      "840/840 [==============================] - 15s 17ms/step - loss: 0.0417 - accuracy: 0.9874 - val_loss: 0.0319 - val_accuracy: 0.9905\n",
      "Epoch 10/100\n",
      "840/840 [==============================] - 15s 17ms/step - loss: 0.0388 - accuracy: 0.9872 - val_loss: 0.0309 - val_accuracy: 0.9903\n",
      "Epoch 11/100\n",
      "840/840 [==============================] - 15s 18ms/step - loss: 0.0305 - accuracy: 0.9907 - val_loss: 0.0341 - val_accuracy: 0.9890\n",
      "Epoch 12/100\n",
      "840/840 [==============================] - 14s 17ms/step - loss: 0.0328 - accuracy: 0.9900 - val_loss: 0.0360 - val_accuracy: 0.9888\n",
      "Epoch 13/100\n",
      "840/840 [==============================] - 16s 19ms/step - loss: 0.0304 - accuracy: 0.9904 - val_loss: 0.0368 - val_accuracy: 0.9882\n",
      "Epoch 14/100\n",
      "840/840 [==============================] - 14s 17ms/step - loss: 0.0292 - accuracy: 0.9910 - val_loss: 0.0388 - val_accuracy: 0.9890\n",
      "Epoch 15/100\n",
      "840/840 [==============================] - 14s 17ms/step - loss: 0.0276 - accuracy: 0.9902 - val_loss: 0.0369 - val_accuracy: 0.9893\n",
      "Epoch 16/100\n",
      "840/840 [==============================] - 16s 19ms/step - loss: 0.0271 - accuracy: 0.9915 - val_loss: 0.0358 - val_accuracy: 0.9903\n",
      "Epoch 17/100\n",
      "840/840 [==============================] - 15s 18ms/step - loss: 0.0231 - accuracy: 0.9922 - val_loss: 0.0372 - val_accuracy: 0.9894\n",
      "Epoch 18/100\n",
      "840/840 [==============================] - 15s 18ms/step - loss: 0.0255 - accuracy: 0.9916 - val_loss: 0.0353 - val_accuracy: 0.9888\n",
      "Epoch 19/100\n",
      "840/840 [==============================] - 14s 16ms/step - loss: 0.0221 - accuracy: 0.9926 - val_loss: 0.0379 - val_accuracy: 0.9891\n"
     ]
    }
   ],
   "source": [
    "history = model_cnn1.fit(X_train_r, y_train, validation_split = 0.2, epochs = 100, callbacks = [early_stopping])"
   ]
  },
  {
   "cell_type": "code",
   "execution_count": 70,
   "metadata": {
    "ExecuteTime": {
     "end_time": "2020-04-20T03:09:17.289069Z",
     "start_time": "2020-04-20T03:09:17.164403Z"
    }
   },
   "outputs": [
    {
     "data": {
      "image/png": "[encoded data removed]",
      "text/plain": [
       "<Figure size 576x288 with 1 Axes>"
      ]
     },
     "metadata": {
      "needs_background": "light"
     },
     "output_type": "display_data"
    }
   ],
   "source": [
    "fig = plt.figure(figsize = (8,4))\n",
    "ax1= plt.plot(history.history[\"accuracy\"], label = \"training\")\n",
    "ax2 = plt.plot(history.history[\"val_accuracy\"], label = \"validation\")\n",
    "plt.legend(loc=\"upper left\")\n",
    "plt.xlabel(\"Epochs\")\n",
    "plt.ylim(0.9,1)\n",
    "plt.ylabel(\"Accuracy\")\n",
    "plt.title(\"Training accuracy and Validation accuracy by epochs\");"
   ]
  },
  {
   "cell_type": "code",
   "execution_count": 71,
   "metadata": {
    "ExecuteTime": {
     "end_time": "2020-04-20T03:09:18.114992Z",
     "start_time": "2020-04-20T03:09:17.290113Z"
    }
   },
   "outputs": [
    {
     "name": "stdout",
     "output_type": "stream",
     "text": [
      "263/263 [==============================] - 2s 7ms/step - loss: 0.0422 - accuracy: 0.9876\n"
     ]
    }
   ],
   "source": [
    "test_accuracy = model_cnn1.evaluate(X_test_r, y_test)[1]"
   ]
  },
  {
   "cell_type": "code",
   "execution_count": 72,
   "metadata": {
    "ExecuteTime": {
     "end_time": "2020-04-20T03:09:18.121974Z",
     "start_time": "2020-04-20T03:09:18.115991Z"
    }
   },
   "outputs": [
    {
     "name": "stderr",
     "output_type": "stream",
     "text": [
      "C:\\Users\\Kajal\\AppData\\Local\\Temp/ipykernel_30436/3015373111.py:1: FutureWarning: The frame.append method is deprecated and will be removed from pandas in a future version. Use pandas.concat instead.\n",
      "  Summary_table  = Summary_table.append({\"model\": \"CNN architecture\", \"Test accuracy\": np.round(test_accuracy,3) }, ignore_index = True)\n"
     ]
    }
   ],
   "source": [
    "Summary_table  = Summary_table.append({\"model\": \"CNN architecture\", \"Test accuracy\": np.round(test_accuracy,3) }, ignore_index = True)"
   ]
  },
  {
   "cell_type": "code",
   "execution_count": 73,
   "metadata": {
    "ExecuteTime": {
     "end_time": "2020-04-20T03:09:18.142021Z",
     "start_time": "2020-04-20T03:09:18.122974Z"
    }
   },
   "outputs": [
    {
     "data": {
      "text/html": [
       "<div>\n",
       "<style scoped>\n",
       "    .dataframe tbody tr th:only-of-type {\n",
       "        vertical-align: middle;\n",
       "    }\n",
       "\n",
       "    .dataframe tbody tr th {\n",
       "        vertical-align: top;\n",
       "    }\n",
       "\n",
       "    .dataframe thead th {\n",
       "        text-align: right;\n",
       "    }\n",
       "</style>\n",
       "<table border=\"1\" class=\"dataframe\">\n",
       "  <thead>\n",
       "    <tr style=\"text-align: right;\">\n",
       "      <th></th>\n",
       "      <th>model</th>\n",
       "      <th>Test accuracy</th>\n",
       "    </tr>\n",
       "  </thead>\n",
       "  <tbody>\n",
       "    <tr>\n",
       "      <th>0</th>\n",
       "      <td>Logistic Regression</td>\n",
       "      <td>0.92</td>\n",
       "    </tr>\n",
       "    <tr>\n",
       "      <th>1</th>\n",
       "      <td>Shallow NN</td>\n",
       "      <td>0.897</td>\n",
       "    </tr>\n",
       "    <tr>\n",
       "      <th>2</th>\n",
       "      <td>NN 2 HL,5 nodes</td>\n",
       "      <td>0.877</td>\n",
       "    </tr>\n",
       "    <tr>\n",
       "      <th>3</th>\n",
       "      <td>NN 2 HL,16 nodes</td>\n",
       "      <td>0.942</td>\n",
       "    </tr>\n",
       "    <tr>\n",
       "      <th>4</th>\n",
       "      <td>Opimized NN (3 HL, 128 nodes)</td>\n",
       "      <td>0.968</td>\n",
       "    </tr>\n",
       "    <tr>\n",
       "      <th>5</th>\n",
       "      <td>Opimized NN (3 HL, 128 nodes) with Dropout</td>\n",
       "      <td>0.975</td>\n",
       "    </tr>\n",
       "    <tr>\n",
       "      <th>6</th>\n",
       "      <td>CNN architecture</td>\n",
       "      <td>0.988</td>\n",
       "    </tr>\n",
       "  </tbody>\n",
       "</table>\n",
       "</div>"
      ],
      "text/plain": [
       "                                        model Test accuracy\n",
       "0                         Logistic Regression          0.92\n",
       "1                                  Shallow NN         0.897\n",
       "2                             NN 2 HL,5 nodes         0.877\n",
       "3                            NN 2 HL,16 nodes         0.942\n",
       "4               Opimized NN (3 HL, 128 nodes)         0.968\n",
       "5  Opimized NN (3 HL, 128 nodes) with Dropout         0.975\n",
       "6                            CNN architecture         0.988"
      ]
     },
     "execution_count": 73,
     "metadata": {},
     "output_type": "execute_result"
    }
   ],
   "source": [
    "Summary_table "
   ]
  },
  {
   "cell_type": "markdown",
   "metadata": {},
   "source": [
    "# Submission on Test Data\n",
    "\n",
    "Training the network on the whole data to submit prediction"
   ]
  },
  {
   "cell_type": "code",
   "execution_count": 74,
   "metadata": {
    "ExecuteTime": {
     "end_time": "2020-04-20T03:15:32.883678Z",
     "start_time": "2020-04-20T03:15:32.793876Z"
    }
   },
   "outputs": [],
   "source": [
    "X_train, y_train = digits_train.iloc[:,1:], digits_train[\"label\"]\n",
    "X_train = X_train / 255\n",
    "X_test = digits_test\n",
    "X_test = X_test / 255"
   ]
  },
  {
   "cell_type": "code",
   "execution_count": 75,
   "metadata": {
    "ExecuteTime": {
     "end_time": "2020-04-20T03:15:36.119515Z",
     "start_time": "2020-04-20T03:15:36.079539Z"
    }
   },
   "outputs": [],
   "source": [
    "y_train = to_categorical(y_train, num_classes = 10)\n",
    "y_test = to_categorical(y_test, num_classes = 10)\n",
    "X_train_r, X_test_r = X_train.values.reshape(-1,28,28,1), X_test.values.reshape(-1,28,28,1)"
   ]
  },
  {
   "cell_type": "code",
   "execution_count": 76,
   "metadata": {
    "ExecuteTime": {
     "end_time": "2020-04-20T03:15:37.006868Z",
     "start_time": "2020-04-20T03:15:37.001881Z"
    }
   },
   "outputs": [
    {
     "data": {
      "text/plain": [
       "(42000, 28, 28, 1)"
      ]
     },
     "execution_count": 76,
     "metadata": {},
     "output_type": "execute_result"
    }
   ],
   "source": [
    "X_train_r.shape"
   ]
  },
  {
   "cell_type": "code",
   "execution_count": 77,
   "metadata": {
    "ExecuteTime": {
     "end_time": "2020-04-20T03:15:37.958040Z",
     "start_time": "2020-04-20T03:15:37.953077Z"
    }
   },
   "outputs": [
    {
     "data": {
      "text/plain": [
       "(28000, 28, 28, 1)"
      ]
     },
     "execution_count": 77,
     "metadata": {},
     "output_type": "execute_result"
    }
   ],
   "source": [
    "X_test_r.shape"
   ]
  },
  {
   "cell_type": "code",
   "execution_count": 78,
   "metadata": {
    "ExecuteTime": {
     "end_time": "2020-04-20T03:21:46.952796Z",
     "start_time": "2020-04-20T03:19:27.460449Z"
    }
   },
   "outputs": [
    {
     "name": "stdout",
     "output_type": "stream",
     "text": [
      "Epoch 1/100\n",
      "1182/1182 [==============================] - 25s 20ms/step - loss: 0.0388 - accuracy: 0.9881 - val_loss: 0.0114 - val_accuracy: 0.9974\n",
      "Epoch 2/100\n",
      "1182/1182 [==============================] - 23s 19ms/step - loss: 0.0307 - accuracy: 0.9906 - val_loss: 0.0138 - val_accuracy: 0.9957\n",
      "Epoch 3/100\n",
      "1182/1182 [==============================] - 22s 18ms/step - loss: 0.0266 - accuracy: 0.9915 - val_loss: 0.0114 - val_accuracy: 0.9957\n",
      "Epoch 4/100\n",
      "1182/1182 [==============================] - 23s 20ms/step - loss: 0.0269 - accuracy: 0.9917 - val_loss: 0.0145 - val_accuracy: 0.9957\n",
      "Epoch 5/100\n",
      "1182/1182 [==============================] - 22s 18ms/step - loss: 0.0227 - accuracy: 0.9924 - val_loss: 0.0155 - val_accuracy: 0.9943\n",
      "Epoch 6/100\n",
      "1182/1182 [==============================] - 24s 20ms/step - loss: 0.0242 - accuracy: 0.9922 - val_loss: 0.0133 - val_accuracy: 0.9962\n",
      "Epoch 7/100\n",
      "1182/1182 [==============================] - 22s 19ms/step - loss: 0.0217 - accuracy: 0.9928 - val_loss: 0.0134 - val_accuracy: 0.9964\n",
      "Epoch 8/100\n",
      "1182/1182 [==============================] - 22s 19ms/step - loss: 0.0208 - accuracy: 0.9929 - val_loss: 0.0227 - val_accuracy: 0.9936\n",
      "Epoch 9/100\n",
      "1182/1182 [==============================] - 23s 20ms/step - loss: 0.0196 - accuracy: 0.9934 - val_loss: 0.0183 - val_accuracy: 0.9931\n",
      "Epoch 10/100\n",
      "1182/1182 [==============================] - 25s 21ms/step - loss: 0.0200 - accuracy: 0.9936 - val_loss: 0.0171 - val_accuracy: 0.9936\n",
      "Epoch 11/100\n",
      "1182/1182 [==============================] - 21s 17ms/step - loss: 0.0187 - accuracy: 0.9937 - val_loss: 0.0104 - val_accuracy: 0.9967\n"
     ]
    },
    {
     "data": {
      "text/plain": [
       "<keras.callbacks.History at 0x1429c9d5f10>"
      ]
     },
     "execution_count": 78,
     "metadata": {},
     "output_type": "execute_result"
    }
   ],
   "source": [
    "model_cnn1.fit(X_train_r, y_train, epochs = 100, validation_split= 0.1, callbacks = [early_stopping])"
   ]
  },
  {
   "cell_type": "code",
   "execution_count": 79,
   "metadata": {
    "ExecuteTime": {
     "end_time": "2020-04-20T03:22:01.798632Z",
     "start_time": "2020-04-20T03:21:59.246570Z"
    }
   },
   "outputs": [],
   "source": [
    "predictions = model_cnn1.predict(X_test_r)\n",
    "predictions = np.argmax(predictions, axis = 1)"
   ]
  },
  {
   "cell_type": "code",
   "execution_count": 80,
   "metadata": {
    "ExecuteTime": {
     "end_time": "2020-04-20T03:25:03.415726Z",
     "start_time": "2020-04-20T03:25:03.408746Z"
    }
   },
   "outputs": [],
   "source": [
    "submission = pd.DataFrame({\"ImageId\":np.arange(len(predictions))+1, \"Label\":predictions}) "
   ]
  },
  {
   "cell_type": "code",
   "execution_count": 81,
   "metadata": {
    "ExecuteTime": {
     "end_time": "2020-04-20T03:25:16.934927Z",
     "start_time": "2020-04-20T03:25:16.893028Z"
    }
   },
   "outputs": [],
   "source": [
    "submission.to_csv(\"submission.csv\", index = False)"
   ]
  },
  {
   "cell_type": "markdown",
   "metadata": {},
   "source": [
    "# Future steps\n",
    "- Further optimization of hyperparameters of CNN\n",
    "- Larger architechtures\n",
    "- Try other regularization techniques like l2\n",
    "- Implementation of ResNets\n",
    "- Data Augmentation \n",
    "- Ensemble of different architectures and combining results"
   ]
  },
  {
   "cell_type": "markdown",
   "metadata": {},
   "source": [
    "# Credits \n",
    "- Andrew NG (Coursera Deep Learning Specialization)\n",
    "- Ethan Swan (Lead Data Scientist at 84.51)\n",
    "- LeNet-5 (http://yann.lecun.com/exdb/publis/pdf/lecun-01a.pdf) \n",
    "- François Chollet"
   ]
  }
 ],
 "metadata": {
  "kernelspec": {
   "display_name": "Python 3 (ipykernel)",
   "language": "python",
   "name": "python3"
  },
  "language_info": {
   "codemirror_mode": {
    "name": "ipython",
    "version": 3
   },
   "file_extension": ".py",
   "mimetype": "text/x-python",
   "name": "python",
   "nbconvert_exporter": "python",
   "pygments_lexer": "ipython3",
   "version": "3.9.7"
  },
  "toc": {
   "base_numbering": 1,
   "nav_menu": {},
   "number_sections": true,
   "sideBar": true,
   "skip_h1_title": false,
   "title_cell": "Table of Contents",
   "title_sidebar": "Contents",
   "toc_cell": false,
   "toc_position": {},
   "toc_section_display": true,
   "toc_window_display": true
  }
 },
 "nbformat": 4,
 "nbformat_minor": 4
}
